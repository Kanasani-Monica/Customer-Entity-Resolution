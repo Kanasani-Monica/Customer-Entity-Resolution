{
  "nbformat": 4,
  "nbformat_minor": 0,
  "metadata": {
    "colab": {
      "provenance": []
    },
    "kernelspec": {
      "name": "python3",
      "display_name": "Python 3"
    },
    "language_info": {
      "name": "python"
    }
  },
  "cells": [
    {
      "cell_type": "markdown",
      "source": [
        "### Enity Resolution\n",
        "*Deduplication: eliminate duplicate (or exact) copies of repeated data\n",
        "\n",
        "*Record linkage: identify records that reference the same entity\n",
        "\n",
        "*Canonicalisation: unify records or convert data into a standard form"
      ],
      "metadata": {
        "id": "WKeYYq-jdQiN"
      }
    },
    {
      "cell_type": "markdown",
      "source": [
        "An article by Gartner estimates that for each record it takes 1 dollar to verify as it is entered, 10 dollar to cleanse and deduplicate it and 100 dollar if nothing is done, as the ramifications of the mistakes are felt over and over again."
      ],
      "metadata": {
        "id": "GEbQz2SMdj6z"
      }
    },
    {
      "cell_type": "markdown",
      "source": [
        "An ER pipeline is a sequence of steps or stages that process the records from the input sources to the output matches or links. This process typically consists of four stages: preprocessing, blocking, matching, and merging. Preprocessing involves cleaning, standardizing, and transforming the records into a common format and structure, often utilizing NLP techniques such as NER, EL, and text normalization. Blocking reduces the search space and number of comparisons by partitioning the records into blocks or buckets based on criteria or rules such as hashing, blocking keys, or locality-sensitive hashing (LSH). Matching then compares and scores the records within each block or across blocks based on their attributes or features, using NLP techniques such as text similarity, text embedding, or supervised learning models. Finally, merging aggregates and resolves the matches or links into clusters or groups of records that represent the same entity, using techniques such as transitive closure, clustering algorithms, or entity consolidation."
      ],
      "metadata": {
        "id": "3EsjVAjA0vB7"
      }
    },
    {
      "cell_type": "markdown",
      "source": [
        "* Mounting the data from the google drive"
      ],
      "metadata": {
        "id": "0612Rqb_EqS-"
      }
    },
    {
      "cell_type": "code",
      "source": [
        "from google.colab import drive\n",
        "drive.mount('/content/drive')"
      ],
      "metadata": {
        "colab": {
          "base_uri": "https://localhost:8080/"
        },
        "id": "f6mIahZG6lNc",
        "outputId": "d2e9e0ad-9dba-40dd-bd4f-9becb7f1c97c"
      },
      "execution_count": null,
      "outputs": [
        {
          "output_type": "stream",
          "name": "stdout",
          "text": [
            "Drive already mounted at /content/drive; to attempt to forcibly remount, call drive.mount(\"/content/drive\", force_remount=True).\n"
          ]
        }
      ]
    },
    {
      "cell_type": "code",
      "source": [
        "import pandas as pd"
      ],
      "metadata": {
        "id": "d8FQXEw6HrKO"
      },
      "execution_count": null,
      "outputs": []
    },
    {
      "cell_type": "markdown",
      "source": [
        "#### Getting Data\n"
      ],
      "metadata": {
        "id": "NcYRvzHdE93O"
      }
    },
    {
      "cell_type": "code",
      "source": [
        "#Data paths\n",
        "training_data_folder_path = '/content/drive/MyDrive/Customer Entity Resolution _ Application Prefill/Training'\n",
        "testing_data_folder_path = '/content/drive/MyDrive/Customer Entity Resolution _ Application Prefill/Test'\n",
        "validation_data_folder_path = '/content/drive/MyDrive/Customer Entity Resolution _ Application Prefill/Validation'\n",
        "credit_bureau_data_path = '/content/drive/MyDrive/Customer Entity Resolution _ Application Prefill/Customer Demographics - Credit Bureau.xlsx'\n",
        "train_in_path = training_data_folder_path + '/Training Data.xlsx'\n",
        "train_out_path = training_data_folder_path + '/Training Data - Ground Truth.xlsx'\n",
        "test_in_path = testing_data_folder_path + '/Test Data.xlsx'\n",
        "test_out_path = testing_data_folder_path + '/Test Data - Ground Truth.xlsx'\n",
        "validation_in_path = validation_data_folder_path + '/Validation Data.xlsx'"
      ],
      "metadata": {
        "id": "uhoK_xVMFKxl"
      },
      "execution_count": null,
      "outputs": []
    },
    {
      "cell_type": "code",
      "source": [
        "# Loding the data using pandas\n",
        "train_in = pd.read_excel(train_in_path)\n",
        "train_out = pd.read_excel(train_out_path)\n",
        "test_in = pd.read_excel(test_in_path)\n",
        "test_out = pd.read_excel(test_out_path)\n",
        "val_in = pd.read_excel(validation_in_path)"
      ],
      "metadata": {
        "id": "bX1yQif37W-T"
      },
      "execution_count": null,
      "outputs": []
    },
    {
      "cell_type": "code",
      "source": [
        "# Loding the credit bureau data\n",
        "id_listing = pd.read_excel(credit_bureau_data_path)"
      ],
      "metadata": {
        "id": "8JoeTASOJ5PS"
      },
      "execution_count": null,
      "outputs": []
    },
    {
      "cell_type": "code",
      "source": [
        "#Merging train date with the ground truth\n",
        "train = train_in.merge(train_out,left_on='Cust ID',right_on = 'Cust ID')"
      ],
      "metadata": {
        "id": "t23O5wMO8Wyo"
      },
      "execution_count": null,
      "outputs": []
    },
    {
      "cell_type": "code",
      "source": [
        "train = train.merge(id_listing,left_on='Credit Bureau ID',right_on='id')"
      ],
      "metadata": {
        "id": "bIcJxFrff7Qu"
      },
      "execution_count": null,
      "outputs": []
    },
    {
      "cell_type": "code",
      "source": [
        "train.columns\n"
      ],
      "metadata": {
        "colab": {
          "base_uri": "https://localhost:8080/"
        },
        "id": "n-gEin3-gtQu",
        "outputId": "6cad0968-9076-4015-9fb7-b9e3a795d494"
      },
      "execution_count": null,
      "outputs": [
        {
          "output_type": "execute_result",
          "data": {
            "text/plain": [
              "Index(['Cust ID', 'First Name', 'Middle Name', 'Last Name', 'Prefix', 'Suffix',\n",
              "       'Address Line 1', 'Address Line 2', 'City', 'State', 'Zip', 'DOB_x',\n",
              "       'Credit Bureau ID', 'id', 'first_name', 'Middle name', 'last_name',\n",
              "       'prefix', 'suffix', 'addr 1', 'addr 2', 'city', 'state', 'zip',\n",
              "       'DOB_y'],\n",
              "      dtype='object')"
            ]
          },
          "metadata": {},
          "execution_count": 59
        }
      ]
    },
    {
      "cell_type": "code",
      "source": [
        "train.head(5)"
      ],
      "metadata": {
        "colab": {
          "base_uri": "https://localhost:8080/",
          "height": 384
        },
        "id": "wN3Ly0MUvHHA",
        "outputId": "e358caf4-5080-4f29-ff26-baea3f8ec18f"
      },
      "execution_count": null,
      "outputs": [
        {
          "output_type": "execute_result",
          "data": {
            "text/plain": [
              "      Cust ID       First Name Middle Name         Last Name  Prefix Suffix  \\\n",
              "0  CustID_101       ALAN LANEE       LANEE         A MENTZER     NaN    NaN   \n",
              "1  CustID_102          HAPPY T           M  TRAVELLER, HAPPY     NaN    NaN   \n",
              "2  CustID_103  DILSON, ROCKLIN      Dlison        ROCKLIN, D     NaN    NaN   \n",
              "3  CustID_104             HAPP          ,         TRAVELLE R     NaN    NaN   \n",
              "4  CustID_106                H        appy         TRAVELLER     NaN    NaN   \n",
              "\n",
              "  Address Line 1  Address Line 2 City State  ... Middle name  last_name  \\\n",
              "0            NaN             NaN  NaN   NaN  ...         NaN    MENTZER   \n",
              "1            NaN             NaN  NaN   NaN  ...         NaN  TRAVELLER   \n",
              "2            NaN             NaN  NaN   NaN  ...         NaN    ROCKLIN   \n",
              "3            NaN             NaN  NaN   NaN  ...         NaN  TRAVELLER   \n",
              "4            NaN             NaN  NaN   NaN  ...         NaN  TRAVELLER   \n",
              "\n",
              "   prefix  suffix addr 1 addr 2 city state  zip                DOB_y  \n",
              "0     NaN     NaN    NaN    NaN  NaN   NaN  NaN                  NaN  \n",
              "1     NaN     NaN    NaN    NaN  NaN   NaN  NaN  1965-02-05 00:00:00  \n",
              "2     NaN     NaN    NaN    NaN  NaN   NaN  NaN  1983-03-15 00:00:00  \n",
              "3     NaN     NaN    NaN    NaN  NaN   NaN  NaN  1981-01-01 00:00:00  \n",
              "4     NaN     NaN    NaN    NaN  NaN   NaN  NaN  1981-01-01 00:00:00  \n",
              "\n",
              "[5 rows x 25 columns]"
            ],
            "text/html": [
              "\n",
              "\n",
              "  <div id=\"df-f957e8fd-5845-4889-a93a-64421cae147e\">\n",
              "    <div class=\"colab-df-container\">\n",
              "      <div>\n",
              "<style scoped>\n",
              "    .dataframe tbody tr th:only-of-type {\n",
              "        vertical-align: middle;\n",
              "    }\n",
              "\n",
              "    .dataframe tbody tr th {\n",
              "        vertical-align: top;\n",
              "    }\n",
              "\n",
              "    .dataframe thead th {\n",
              "        text-align: right;\n",
              "    }\n",
              "</style>\n",
              "<table border=\"1\" class=\"dataframe\">\n",
              "  <thead>\n",
              "    <tr style=\"text-align: right;\">\n",
              "      <th></th>\n",
              "      <th>Cust ID</th>\n",
              "      <th>First Name</th>\n",
              "      <th>Middle Name</th>\n",
              "      <th>Last Name</th>\n",
              "      <th>Prefix</th>\n",
              "      <th>Suffix</th>\n",
              "      <th>Address Line 1</th>\n",
              "      <th>Address Line 2</th>\n",
              "      <th>City</th>\n",
              "      <th>State</th>\n",
              "      <th>...</th>\n",
              "      <th>Middle name</th>\n",
              "      <th>last_name</th>\n",
              "      <th>prefix</th>\n",
              "      <th>suffix</th>\n",
              "      <th>addr 1</th>\n",
              "      <th>addr 2</th>\n",
              "      <th>city</th>\n",
              "      <th>state</th>\n",
              "      <th>zip</th>\n",
              "      <th>DOB_y</th>\n",
              "    </tr>\n",
              "  </thead>\n",
              "  <tbody>\n",
              "    <tr>\n",
              "      <th>0</th>\n",
              "      <td>CustID_101</td>\n",
              "      <td>ALAN LANEE</td>\n",
              "      <td>LANEE</td>\n",
              "      <td>A MENTZER</td>\n",
              "      <td>NaN</td>\n",
              "      <td>NaN</td>\n",
              "      <td>NaN</td>\n",
              "      <td>NaN</td>\n",
              "      <td>NaN</td>\n",
              "      <td>NaN</td>\n",
              "      <td>...</td>\n",
              "      <td>NaN</td>\n",
              "      <td>MENTZER</td>\n",
              "      <td>NaN</td>\n",
              "      <td>NaN</td>\n",
              "      <td>NaN</td>\n",
              "      <td>NaN</td>\n",
              "      <td>NaN</td>\n",
              "      <td>NaN</td>\n",
              "      <td>NaN</td>\n",
              "      <td>NaN</td>\n",
              "    </tr>\n",
              "    <tr>\n",
              "      <th>1</th>\n",
              "      <td>CustID_102</td>\n",
              "      <td>HAPPY T</td>\n",
              "      <td>M</td>\n",
              "      <td>TRAVELLER, HAPPY</td>\n",
              "      <td>NaN</td>\n",
              "      <td>NaN</td>\n",
              "      <td>NaN</td>\n",
              "      <td>NaN</td>\n",
              "      <td>NaN</td>\n",
              "      <td>NaN</td>\n",
              "      <td>...</td>\n",
              "      <td>NaN</td>\n",
              "      <td>TRAVELLER</td>\n",
              "      <td>NaN</td>\n",
              "      <td>NaN</td>\n",
              "      <td>NaN</td>\n",
              "      <td>NaN</td>\n",
              "      <td>NaN</td>\n",
              "      <td>NaN</td>\n",
              "      <td>NaN</td>\n",
              "      <td>1965-02-05 00:00:00</td>\n",
              "    </tr>\n",
              "    <tr>\n",
              "      <th>2</th>\n",
              "      <td>CustID_103</td>\n",
              "      <td>DILSON, ROCKLIN</td>\n",
              "      <td>Dlison</td>\n",
              "      <td>ROCKLIN, D</td>\n",
              "      <td>NaN</td>\n",
              "      <td>NaN</td>\n",
              "      <td>NaN</td>\n",
              "      <td>NaN</td>\n",
              "      <td>NaN</td>\n",
              "      <td>NaN</td>\n",
              "      <td>...</td>\n",
              "      <td>NaN</td>\n",
              "      <td>ROCKLIN</td>\n",
              "      <td>NaN</td>\n",
              "      <td>NaN</td>\n",
              "      <td>NaN</td>\n",
              "      <td>NaN</td>\n",
              "      <td>NaN</td>\n",
              "      <td>NaN</td>\n",
              "      <td>NaN</td>\n",
              "      <td>1983-03-15 00:00:00</td>\n",
              "    </tr>\n",
              "    <tr>\n",
              "      <th>3</th>\n",
              "      <td>CustID_104</td>\n",
              "      <td>HAPP</td>\n",
              "      <td>,</td>\n",
              "      <td>TRAVELLE R</td>\n",
              "      <td>NaN</td>\n",
              "      <td>NaN</td>\n",
              "      <td>NaN</td>\n",
              "      <td>NaN</td>\n",
              "      <td>NaN</td>\n",
              "      <td>NaN</td>\n",
              "      <td>...</td>\n",
              "      <td>NaN</td>\n",
              "      <td>TRAVELLER</td>\n",
              "      <td>NaN</td>\n",
              "      <td>NaN</td>\n",
              "      <td>NaN</td>\n",
              "      <td>NaN</td>\n",
              "      <td>NaN</td>\n",
              "      <td>NaN</td>\n",
              "      <td>NaN</td>\n",
              "      <td>1981-01-01 00:00:00</td>\n",
              "    </tr>\n",
              "    <tr>\n",
              "      <th>4</th>\n",
              "      <td>CustID_106</td>\n",
              "      <td>H</td>\n",
              "      <td>appy</td>\n",
              "      <td>TRAVELLER</td>\n",
              "      <td>NaN</td>\n",
              "      <td>NaN</td>\n",
              "      <td>NaN</td>\n",
              "      <td>NaN</td>\n",
              "      <td>NaN</td>\n",
              "      <td>NaN</td>\n",
              "      <td>...</td>\n",
              "      <td>NaN</td>\n",
              "      <td>TRAVELLER</td>\n",
              "      <td>NaN</td>\n",
              "      <td>NaN</td>\n",
              "      <td>NaN</td>\n",
              "      <td>NaN</td>\n",
              "      <td>NaN</td>\n",
              "      <td>NaN</td>\n",
              "      <td>NaN</td>\n",
              "      <td>1981-01-01 00:00:00</td>\n",
              "    </tr>\n",
              "  </tbody>\n",
              "</table>\n",
              "<p>5 rows × 25 columns</p>\n",
              "</div>\n",
              "      <button class=\"colab-df-convert\" onclick=\"convertToInteractive('df-f957e8fd-5845-4889-a93a-64421cae147e')\"\n",
              "              title=\"Convert this dataframe to an interactive table.\"\n",
              "              style=\"display:none;\">\n",
              "\n",
              "  <svg xmlns=\"http://www.w3.org/2000/svg\" height=\"24px\"viewBox=\"0 0 24 24\"\n",
              "       width=\"24px\">\n",
              "    <path d=\"M0 0h24v24H0V0z\" fill=\"none\"/>\n",
              "    <path d=\"M18.56 5.44l.94 2.06.94-2.06 2.06-.94-2.06-.94-.94-2.06-.94 2.06-2.06.94zm-11 1L8.5 8.5l.94-2.06 2.06-.94-2.06-.94L8.5 2.5l-.94 2.06-2.06.94zm10 10l.94 2.06.94-2.06 2.06-.94-2.06-.94-.94-2.06-.94 2.06-2.06.94z\"/><path d=\"M17.41 7.96l-1.37-1.37c-.4-.4-.92-.59-1.43-.59-.52 0-1.04.2-1.43.59L10.3 9.45l-7.72 7.72c-.78.78-.78 2.05 0 2.83L4 21.41c.39.39.9.59 1.41.59.51 0 1.02-.2 1.41-.59l7.78-7.78 2.81-2.81c.8-.78.8-2.07 0-2.86zM5.41 20L4 18.59l7.72-7.72 1.47 1.35L5.41 20z\"/>\n",
              "  </svg>\n",
              "      </button>\n",
              "\n",
              "\n",
              "\n",
              "    <div id=\"df-c6bb11e3-fe49-40a2-804e-998347cec8b4\">\n",
              "      <button class=\"colab-df-quickchart\" onclick=\"quickchart('df-c6bb11e3-fe49-40a2-804e-998347cec8b4')\"\n",
              "              title=\"Suggest charts.\"\n",
              "              style=\"display:none;\">\n",
              "\n",
              "<svg xmlns=\"http://www.w3.org/2000/svg\" height=\"24px\"viewBox=\"0 0 24 24\"\n",
              "     width=\"24px\">\n",
              "    <g>\n",
              "        <path d=\"M19 3H5c-1.1 0-2 .9-2 2v14c0 1.1.9 2 2 2h14c1.1 0 2-.9 2-2V5c0-1.1-.9-2-2-2zM9 17H7v-7h2v7zm4 0h-2V7h2v10zm4 0h-2v-4h2v4z\"/>\n",
              "    </g>\n",
              "</svg>\n",
              "      </button>\n",
              "    </div>\n",
              "\n",
              "<style>\n",
              "  .colab-df-quickchart {\n",
              "    background-color: #E8F0FE;\n",
              "    border: none;\n",
              "    border-radius: 50%;\n",
              "    cursor: pointer;\n",
              "    display: none;\n",
              "    fill: #1967D2;\n",
              "    height: 32px;\n",
              "    padding: 0 0 0 0;\n",
              "    width: 32px;\n",
              "  }\n",
              "\n",
              "  .colab-df-quickchart:hover {\n",
              "    background-color: #E2EBFA;\n",
              "    box-shadow: 0px 1px 2px rgba(60, 64, 67, 0.3), 0px 1px 3px 1px rgba(60, 64, 67, 0.15);\n",
              "    fill: #174EA6;\n",
              "  }\n",
              "\n",
              "  [theme=dark] .colab-df-quickchart {\n",
              "    background-color: #3B4455;\n",
              "    fill: #D2E3FC;\n",
              "  }\n",
              "\n",
              "  [theme=dark] .colab-df-quickchart:hover {\n",
              "    background-color: #434B5C;\n",
              "    box-shadow: 0px 1px 3px 1px rgba(0, 0, 0, 0.15);\n",
              "    filter: drop-shadow(0px 1px 2px rgba(0, 0, 0, 0.3));\n",
              "    fill: #FFFFFF;\n",
              "  }\n",
              "</style>\n",
              "\n",
              "    <script>\n",
              "      async function quickchart(key) {\n",
              "        const containerElement = document.querySelector('#' + key);\n",
              "        const charts = await google.colab.kernel.invokeFunction(\n",
              "            'suggestCharts', [key], {});\n",
              "      }\n",
              "    </script>\n",
              "\n",
              "      <script>\n",
              "\n",
              "function displayQuickchartButton(domScope) {\n",
              "  let quickchartButtonEl =\n",
              "    domScope.querySelector('#df-c6bb11e3-fe49-40a2-804e-998347cec8b4 button.colab-df-quickchart');\n",
              "  quickchartButtonEl.style.display =\n",
              "    google.colab.kernel.accessAllowed ? 'block' : 'none';\n",
              "}\n",
              "\n",
              "        displayQuickchartButton(document);\n",
              "      </script>\n",
              "      <style>\n",
              "    .colab-df-container {\n",
              "      display:flex;\n",
              "      flex-wrap:wrap;\n",
              "      gap: 12px;\n",
              "    }\n",
              "\n",
              "    .colab-df-convert {\n",
              "      background-color: #E8F0FE;\n",
              "      border: none;\n",
              "      border-radius: 50%;\n",
              "      cursor: pointer;\n",
              "      display: none;\n",
              "      fill: #1967D2;\n",
              "      height: 32px;\n",
              "      padding: 0 0 0 0;\n",
              "      width: 32px;\n",
              "    }\n",
              "\n",
              "    .colab-df-convert:hover {\n",
              "      background-color: #E2EBFA;\n",
              "      box-shadow: 0px 1px 2px rgba(60, 64, 67, 0.3), 0px 1px 3px 1px rgba(60, 64, 67, 0.15);\n",
              "      fill: #174EA6;\n",
              "    }\n",
              "\n",
              "    [theme=dark] .colab-df-convert {\n",
              "      background-color: #3B4455;\n",
              "      fill: #D2E3FC;\n",
              "    }\n",
              "\n",
              "    [theme=dark] .colab-df-convert:hover {\n",
              "      background-color: #434B5C;\n",
              "      box-shadow: 0px 1px 3px 1px rgba(0, 0, 0, 0.15);\n",
              "      filter: drop-shadow(0px 1px 2px rgba(0, 0, 0, 0.3));\n",
              "      fill: #FFFFFF;\n",
              "    }\n",
              "  </style>\n",
              "\n",
              "      <script>\n",
              "        const buttonEl =\n",
              "          document.querySelector('#df-f957e8fd-5845-4889-a93a-64421cae147e button.colab-df-convert');\n",
              "        buttonEl.style.display =\n",
              "          google.colab.kernel.accessAllowed ? 'block' : 'none';\n",
              "\n",
              "        async function convertToInteractive(key) {\n",
              "          const element = document.querySelector('#df-f957e8fd-5845-4889-a93a-64421cae147e');\n",
              "          const dataTable =\n",
              "            await google.colab.kernel.invokeFunction('convertToInteractive',\n",
              "                                                     [key], {});\n",
              "          if (!dataTable) return;\n",
              "\n",
              "          const docLinkHtml = 'Like what you see? Visit the ' +\n",
              "            '<a target=\"_blank\" href=https://colab.research.google.com/notebooks/data_table.ipynb>data table notebook</a>'\n",
              "            + ' to learn more about interactive tables.';\n",
              "          element.innerHTML = '';\n",
              "          dataTable['output_type'] = 'display_data';\n",
              "          await google.colab.output.renderOutput(dataTable, element);\n",
              "          const docLink = document.createElement('div');\n",
              "          docLink.innerHTML = docLinkHtml;\n",
              "          element.appendChild(docLink);\n",
              "        }\n",
              "      </script>\n",
              "    </div>\n",
              "  </div>\n"
            ]
          },
          "metadata": {},
          "execution_count": 60
        }
      ]
    },
    {
      "cell_type": "code",
      "source": [
        "test = test_in.merge(test_out,left_on='Cust ID',right_on = 'Cust ID')\n",
        "test = test.merge(id_listing,left_on='Credit Bureau ID', right_on = 'id')"
      ],
      "metadata": {
        "id": "51wIPqgMX5v9"
      },
      "execution_count": null,
      "outputs": []
    },
    {
      "cell_type": "markdown",
      "source": [
        "## Data Preprocessing\n",
        "* Decided to go with Data Cleaning, Handling mising values, Standardizing the Name, DOB, Address. Depending on the model choosen might do further preprocessing. Other techiniques will be the NLP ones like (NER, EL and Text normalization)"
      ],
      "metadata": {
        "id": "JMlYkAV5vbIE"
      }
    },
    {
      "cell_type": "code",
      "source": [
        "# Checking for the columns with the missing data in training dataset\n",
        "train.isna().sum()"
      ],
      "metadata": {
        "colab": {
          "base_uri": "https://localhost:8080/"
        },
        "id": "MJ0zyveDYKmk",
        "outputId": "412a1302-f380-498c-ea74-a67417a52357"
      },
      "execution_count": null,
      "outputs": [
        {
          "output_type": "execute_result",
          "data": {
            "text/plain": [
              "Cust ID               0\n",
              "First Name            0\n",
              "Middle Name          93\n",
              "Last Name             0\n",
              "Prefix              160\n",
              "Suffix              153\n",
              "Address Line 1       62\n",
              "Address Line 2      160\n",
              "City                 62\n",
              "State                62\n",
              "Zip                  62\n",
              "DOB_x                 5\n",
              "Credit Bureau ID      0\n",
              "id                    0\n",
              "first_name            0\n",
              "Middle name         108\n",
              "last_name             0\n",
              "prefix              160\n",
              "suffix              153\n",
              "addr 1               62\n",
              "addr 2              160\n",
              "city                 82\n",
              "state                62\n",
              "zip                  63\n",
              "DOB_y                 5\n",
              "dtype: int64"
            ]
          },
          "metadata": {},
          "execution_count": 62
        }
      ]
    },
    {
      "cell_type": "code",
      "source": [
        "# Checking for the columns with missing data in testing data set\n",
        "test.isna().sum()"
      ],
      "metadata": {
        "colab": {
          "base_uri": "https://localhost:8080/"
        },
        "id": "k4MTzP8paC3x",
        "outputId": "0944632d-365c-4303-bf56-5cc8a164734b"
      },
      "execution_count": null,
      "outputs": [
        {
          "output_type": "execute_result",
          "data": {
            "text/plain": [
              "Cust ID              0\n",
              "First Name           0\n",
              "Middle Name         21\n",
              "Last Name            0\n",
              "Prefix              54\n",
              "Suffix              45\n",
              "Address Line 1       0\n",
              "Address Line 2      50\n",
              "City                 0\n",
              "State                0\n",
              "Zip                  0\n",
              "DOB_x                0\n",
              "Credit Bureau ID     0\n",
              "id                   0\n",
              "first_name           0\n",
              "Middle name         22\n",
              "last_name            0\n",
              "prefix              54\n",
              "suffix              45\n",
              "addr 1               0\n",
              "addr 2              50\n",
              "city                 1\n",
              "state                1\n",
              "zip                  2\n",
              "DOB_y                0\n",
              "dtype: int64"
            ]
          },
          "metadata": {},
          "execution_count": 63
        }
      ]
    },
    {
      "cell_type": "markdown",
      "source": [
        "#### Data Cleaning\n",
        "\n",
        "Based on the above data manually inputing the missing values for each column  based on the type of data we need to input. handle_missing_value id the function to input the missing data."
      ],
      "metadata": {
        "id": "hRujW2nZa9Ia"
      }
    },
    {
      "cell_type": "code",
      "source": [
        "def handle_missing_values(data):\n",
        "  # Filling these columns with empty string place holder\n",
        "  unknown_placeholder_columns = ['Middle Name', 'Middle name', 'Address Line 1', 'Address Line 2',\n",
        "                                  'City', 'State', 'addr 1', 'addr 2', 'city', 'state']\n",
        "\n",
        "  # Filling these columns with empty string placeholder\n",
        "  empty_placeholder_columns = ['Prefix', 'Suffix', 'prefix', 'suffix']\n",
        "\n",
        "  # Filling these columns with '00000' placeholder\n",
        "  zip_placeholder_columns = ['Zip', 'zip']\n",
        "\n",
        "  # Filling date with default date placeholder\n",
        "  date_placeholder_columns = ['DOB_x', 'DOB_y']\n",
        "\n",
        "  # Applying empty string placeholder\n",
        "  data[unknown_placeholder_columns] = data[unknown_placeholder_columns].fillna('')\n",
        "\n",
        "  # Applying empty string placeholder\n",
        "  data[empty_placeholder_columns] = data[empty_placeholder_columns].fillna('')\n",
        "\n",
        "  # Applying '00000' placeholder\n",
        "  data[zip_placeholder_columns] = data[zip_placeholder_columns].fillna('00000')\n",
        "\n",
        "  # Adding not clear date placeholder\n",
        "  not_clear_date = 'not clear'\n",
        "  data[date_placeholder_columns] = data[date_placeholder_columns].fillna(not_clear_date)\n",
        "\n",
        "  return data\n"
      ],
      "metadata": {
        "id": "XMx-gQCEvXLv"
      },
      "execution_count": null,
      "outputs": []
    },
    {
      "cell_type": "code",
      "source": [
        "# Handling missing vales for train dataset\n",
        "train = handle_missing_values(train)"
      ],
      "metadata": {
        "id": "PYS_Q32Fbl5J"
      },
      "execution_count": null,
      "outputs": []
    },
    {
      "cell_type": "code",
      "source": [
        "# Handling missing vales for test dataset\n",
        "test = handle_missing_values(test)"
      ],
      "metadata": {
        "id": "-9I-B3KHbqvD"
      },
      "execution_count": null,
      "outputs": []
    },
    {
      "cell_type": "code",
      "source": [
        "train.isna().sum()"
      ],
      "metadata": {
        "colab": {
          "base_uri": "https://localhost:8080/"
        },
        "id": "Sm3gaJ7PILdF",
        "outputId": "ea9f7ebd-20c7-4822-f330-ce56171161e5"
      },
      "execution_count": null,
      "outputs": [
        {
          "output_type": "execute_result",
          "data": {
            "text/plain": [
              "Cust ID             0\n",
              "First Name          0\n",
              "Middle Name         0\n",
              "Last Name           0\n",
              "Prefix              0\n",
              "Suffix              0\n",
              "Address Line 1      0\n",
              "Address Line 2      0\n",
              "City                0\n",
              "State               0\n",
              "Zip                 0\n",
              "DOB_x               0\n",
              "Credit Bureau ID    0\n",
              "id                  0\n",
              "first_name          0\n",
              "Middle name         0\n",
              "last_name           0\n",
              "prefix              0\n",
              "suffix              0\n",
              "addr 1              0\n",
              "addr 2              0\n",
              "city                0\n",
              "state               0\n",
              "zip                 0\n",
              "DOB_y               0\n",
              "dtype: int64"
            ]
          },
          "metadata": {},
          "execution_count": 67
        }
      ]
    },
    {
      "cell_type": "markdown",
      "source": [
        "## Data standardization\n",
        "\n",
        "Bringing all the data into the standard format for date used the month/day/year, conerting state in the abbreviated format to the full state name, if there are any descrepecies in the sate name using the fuzzy string mapping to get best possible word. converting the name, address all these columns into the small letters, removing the spaces and non string values"
      ],
      "metadata": {
        "id": "0R9F7EoskIcc"
      }
    },
    {
      "cell_type": "code",
      "source": [
        "!pip install fuzzywuzzy -q"
      ],
      "metadata": {
        "id": "GwlfakRhrp7a"
      },
      "execution_count": null,
      "outputs": []
    },
    {
      "cell_type": "code",
      "source": [
        "from fuzzywuzzy import process\n",
        "import re\n",
        "def guess_state(state):\n",
        "  state = str(state)\n",
        "\n",
        "  if not state.strip():  # Empty or only contains whitespace\n",
        "      return state\n",
        "\n",
        "  # Removing spaces and uncessary symbols\n",
        "  state = re.sub(r'[^a-zA-Z0-9]', '', state)\n",
        "\n",
        "\n",
        "  #List of all states\n",
        "  choices = [\n",
        "        ('Alabama', 'AL'), ('Alaska', 'AK'), ('Arizona', 'AZ'), ('Arkansas', 'AR'),\n",
        "        ('California', 'CA'), ('Colorado', 'CO'), ('Connecticut', 'CT'), ('Delaware', 'DE'),\n",
        "        ('Florida', 'FL'), ('Georgia', 'GA'), ('Hawaii', 'HI'), ('Idaho', 'ID'),\n",
        "        ('Illinois', 'IL'), ('Indiana', 'IN'), ('Iowa', 'IA'), ('Kansas', 'KS'),\n",
        "        ('Kentucky', 'KY'), ('Louisiana', 'LA'), ('Maine', 'ME'), ('Maryland', 'MD'),\n",
        "        ('Massachusetts', 'MA'), ('Michigan', 'MI'), ('Minnesota', 'MN'), ('Mississippi', 'MS'),\n",
        "        ('Missouri', 'MO'), ('Montana', 'MT'), ('Nebraska', 'NE'), ('Nevada', 'NV'),\n",
        "        ('New Hampshire', 'NH'), ('New Jersey', 'NJ'), ('New Mexico', 'NM'), ('New York', 'NY'),\n",
        "        ('North Carolina', 'NC'), ('North Dakota', 'ND'), ('Ohio', 'OH'), ('Oklahoma', 'OK'),\n",
        "        ('Oregon', 'OR'), ('Pennsylvania', 'PA'), ('Rhode Island', 'RI'), ('South Carolina', 'SC'),\n",
        "        ('South Dakota', 'SD'), ('Tennessee', 'TN'), ('Texas', 'TX'), ('Utah', 'UT'),\n",
        "        ('Vermont', 'VT'), ('Virginia', 'VA'), ('Washington', 'WA'), ('West Virginia', 'WV'),\n",
        "        ('Wisconsin', 'WI'), ('Wyoming', 'WY')\n",
        "    ]\n",
        "\n",
        "  # Checking for direct abbreviation match\n",
        "  for choice in choices:\n",
        "      if len(state) == 2 and state.upper() == choice[1]:\n",
        "          return choice[0]\n",
        "\n",
        "  # Doing the fuzzy match\n",
        "  best_match, best_score = None, 0\n",
        "  for choice in choices:\n",
        "      match, score = process.extractOne(state, [choice[0]])\n",
        "      if score > 75 and score > best_score:\n",
        "          best_match = match\n",
        "          best_score = score\n",
        "\n",
        "  if best_match:\n",
        "      return best_match\n",
        "  else:\n",
        "      return state\n",
        "\n",
        "# Checking for sample example\n",
        "state = 'LA'\n",
        "parsed_state = guess_state(state)\n",
        "print(parsed_state)"
      ],
      "metadata": {
        "colab": {
          "base_uri": "https://localhost:8080/"
        },
        "id": "UOpzACnEb5le",
        "outputId": "24e4c16f-69fe-42a7-b0d9-4c901934d294"
      },
      "execution_count": null,
      "outputs": [
        {
          "output_type": "stream",
          "name": "stdout",
          "text": [
            "Louisiana\n"
          ]
        }
      ]
    },
    {
      "cell_type": "markdown",
      "source": [
        "##### Tried using the directly the standard python library datetime.strptime for the date parsing, as the variations are huge the library not handling all cases doing it manually with all possible formats and checking the formats which are difficult to handle."
      ],
      "metadata": {
        "id": "BGT3V-7cwCMX"
      }
    },
    {
      "cell_type": "code",
      "source": [
        "from dateutil.parser import parse\n",
        "from datetime import datetime\n",
        "\n",
        "def custom_parse(date_str):\n",
        "  date_str = str(date_str)\n",
        "\n",
        "  try:\n",
        "    #  Parsing using dateutil.parser\n",
        "    parsed_date = parse(date_str, fuzzy=True)\n",
        "    if parsed_date.year >= 1900:\n",
        "        return parsed_date.strftime('%m/%d/%Y')\n",
        "  except:\n",
        "    pass\n",
        "\n",
        "  try:\n",
        "    # Attempting to parse other formats\n",
        "    formats = ['%Y-%m-%d %H:%M:%S', '%m/%d/%Y', '%m-%d-%Y', '%m.%d.%Y']\n",
        "    for format_str in formats:\n",
        "        try:\n",
        "          parsed_date = datetime.strptime(date_str, format_str)\n",
        "          return parsed_date.strftime('%m/%d/%Y')\n",
        "        except:\n",
        "          pass\n",
        "  except:\n",
        "      pass\n",
        "\n",
        "  # Handling other date formats\n",
        "  try:\n",
        "    if \"not clear\" in date_str.lower():\n",
        "      return date_str  # Leave as is\n",
        "\n",
        "    # Checking for abbreviated month names\n",
        "    month_abbr = ['Jan', 'Feb', 'Mar', 'Apr', 'May', 'Jun', 'Jul', 'Aug', 'Sep', 'Oct', 'Nov', 'Dec']\n",
        "    for abbr in month_abbr:\n",
        "      if abbr in date_str:\n",
        "        month_num = str(month_abbr.index(abbr) + 1).zfill(2)\n",
        "        return date_str.replace(abbr, month_num)\n",
        "\n",
        "  except:\n",
        "      pass\n",
        "\n",
        "  # If no format matches, printing the unparseable date and returning the original string\n",
        "  print(\"Unparseable date:\", date_str)\n",
        "  return date_str\n",
        "\n",
        "# Example usage:\n",
        "date_str = \"2023-07-28 00:00:00\"\n",
        "parsed_date = custom_parse(date_str)\n",
        "print(\"Parsed date:\", parsed_date)\n"
      ],
      "metadata": {
        "colab": {
          "base_uri": "https://localhost:8080/"
        },
        "id": "Z97SJku1wAo5",
        "outputId": "b2480329-dcb8-4603-ea83-44deb4bab256"
      },
      "execution_count": null,
      "outputs": [
        {
          "output_type": "stream",
          "name": "stdout",
          "text": [
            "Parsed date: 07/28/2023\n"
          ]
        }
      ]
    },
    {
      "cell_type": "code",
      "source": [
        "import re\n",
        "def standardize_data(data):\n",
        "\n",
        "  # A copy of the DataFrame to work with\n",
        "  data_copy = data.copy()\n",
        "\n",
        "  # Standardizing the DOB format to month/day/year\n",
        "  data_copy.loc[:, 'DOB_x'] = data_copy['DOB_x'].apply(custom_parse)\n",
        "  data_copy.loc[:, 'DOB_y'] = data_copy['DOB_y'].apply(custom_parse)\n",
        "\n",
        "\n",
        "  # Guessing the state names using mapping and guessing\n",
        "  data_copy.loc[:, 'State'] = data_copy['State'].apply(guess_state)\n",
        "\n",
        "  # Standardizing Zip Code format to first five characters\n",
        "  data_copy.loc[:, 'Zip'] = data_copy['Zip'].apply(lambda zip_code: re.sub(r'[^\\d-]', '', str(zip_code)))\n",
        "\n",
        "\n",
        "  # Standardizing the name columns to lowercase and removing the leading/trailing spaces, also cleaning the ,\n",
        "  name_columns = ['First Name', 'Middle Name', 'Last Name', 'first_name', 'Middle name', 'last_name']\n",
        "  for col in name_columns:\n",
        "    data_copy.loc[:, col] = data_copy[col].str.strip().str.lower()\n",
        "    data_copy[col] = data_copy[col].str.split(',').apply(lambda parts: [part.strip() for part in parts])\n",
        "    data_copy[col] = data_copy[col].apply(lambda parts: ' '.join(parts) if parts and len(parts[0]) > 0 else '')\n",
        "\n",
        "\n",
        "  # Standardizing the address columns to lowercase and remove leading/trailing spaces\n",
        "  address_columns = ['Address Line 1', 'Address Line 2', 'addr 1', 'addr 2']\n",
        "  for col in address_columns:\n",
        "      data_copy.loc[:, col] = data_copy[col].str.strip().str.lower()\n",
        "\n",
        "\n",
        "  # Standardizing the City column using lowercase, removing leading/trailing spaces, and non-alphanumeric characters\n",
        "  data_copy['City'] = data_copy['City'].str.strip().str.lower().apply(lambda city: re.sub(r'[^a-zA-Z0-9\\s]', '', city))\n",
        "\n",
        "\n",
        "  return data_copy"
      ],
      "metadata": {
        "id": "SkpxLaW9jLgo"
      },
      "execution_count": null,
      "outputs": []
    },
    {
      "cell_type": "code",
      "source": [
        "# Processing the train data\n",
        "train_new = standardize_data(train)\n",
        "print(train_new.head(10))"
      ],
      "metadata": {
        "colab": {
          "base_uri": "https://localhost:8080/"
        },
        "id": "5TsAcZfFr3Oo",
        "outputId": "8186467e-038c-42d2-8a75-45c0204c1ae7"
      },
      "execution_count": null,
      "outputs": [
        {
          "output_type": "stream",
          "name": "stdout",
          "text": [
            "Unparseable date: 0/30/2000\n",
            "      Cust ID      First Name Middle Name        Last Name Prefix Suffix  \\\n",
            "0  CustID_101      alan lanee       lanee        a mentzer                 \n",
            "1  CustID_102         happy t           m  traveller happy                 \n",
            "2  CustID_103  dilson rocklin      dlison        rocklin d                 \n",
            "3  CustID_104            happ                   travelle r                 \n",
            "4  CustID_106               h        appy        traveller                 \n",
            "5  CustID_107           happy       happy                t           JR>   \n",
            "6  CustID_108            aron           w          warnerr                 \n",
            "7  CustID_109             ami     baldwin         bald win                 \n",
            "8  CustID_110        jonathan           s           smithe                 \n",
            "9  CustID_111            bert                      mill_er                 \n",
            "\n",
            "  Address Line 1 Address Line 2 City State  ... Middle name  last_name  \\\n",
            "0                                           ...                mentzer   \n",
            "1                                           ...              traveller   \n",
            "2                                           ...                rocklin   \n",
            "3                                           ...              traveller   \n",
            "4                                           ...              traveller   \n",
            "5                                           ...              traveller   \n",
            "6                                           ...                 warner   \n",
            "7                                           ...                baldwin   \n",
            "8                                           ...                  smith   \n",
            "9                                           ...                 miller   \n",
            "\n",
            "   prefix  suffix addr 1 addr 2 city state    zip       DOB_y  \n",
            "0                                           00000   not clear  \n",
            "1                                           00000  02/05/1965  \n",
            "2                                           00000  03/15/1983  \n",
            "3                                           00000  01/01/1981  \n",
            "4                                           00000  01/01/1981  \n",
            "5              Jr                           00000  01/01/1980  \n",
            "6                                           00000  11/24/1987  \n",
            "7                                           00000  03/23/1990  \n",
            "8                                           00000  07/07/1972  \n",
            "9                                           00000  11/02/1999  \n",
            "\n",
            "[10 rows x 25 columns]\n"
          ]
        }
      ]
    },
    {
      "cell_type": "code",
      "source": [
        "train_new.isna().sum()"
      ],
      "metadata": {
        "colab": {
          "base_uri": "https://localhost:8080/"
        },
        "id": "XR6tchQXTBMy",
        "outputId": "d20e45b5-7921-4bc4-88d8-ddae231f27d0"
      },
      "execution_count": null,
      "outputs": [
        {
          "output_type": "execute_result",
          "data": {
            "text/plain": [
              "Cust ID             0\n",
              "First Name          0\n",
              "Middle Name         0\n",
              "Last Name           0\n",
              "Prefix              0\n",
              "Suffix              0\n",
              "Address Line 1      0\n",
              "Address Line 2      0\n",
              "City                0\n",
              "State               0\n",
              "Zip                 0\n",
              "DOB_x               0\n",
              "Credit Bureau ID    0\n",
              "id                  0\n",
              "first_name          0\n",
              "Middle name         0\n",
              "last_name           0\n",
              "prefix              0\n",
              "suffix              0\n",
              "addr 1              0\n",
              "addr 2              0\n",
              "city                0\n",
              "state               0\n",
              "zip                 0\n",
              "DOB_y               0\n",
              "dtype: int64"
            ]
          },
          "metadata": {},
          "execution_count": 73
        }
      ]
    },
    {
      "cell_type": "code",
      "source": [
        "# Processing the test data\n",
        "test_new = standardize_data(test)"
      ],
      "metadata": {
        "colab": {
          "base_uri": "https://localhost:8080/"
        },
        "id": "bDjU47WZCM0l",
        "outputId": "4505fa60-5fac-459e-e81b-360874b02021"
      },
      "execution_count": null,
      "outputs": [
        {
          "output_type": "stream",
          "name": "stderr",
          "text": [
            "<ipython-input-71-5b5585f126ce>:9: DeprecationWarning: In a future version, `df.iloc[:, i] = newvals` will attempt to set the values inplace instead of always setting a new array. To retain the old behavior, use either `df[df.columns[i]] = newvals` or, if columns are non-unique, `df.isetitem(i, newvals)`\n",
            "  data_copy.loc[:, 'DOB_y'] = data_copy['DOB_y'].apply(custom_parse)\n"
          ]
        }
      ]
    },
    {
      "cell_type": "code",
      "source": [
        "test_new.head(5)"
      ],
      "metadata": {
        "colab": {
          "base_uri": "https://localhost:8080/",
          "height": 629
        },
        "id": "jjJ-zR9NDeLX",
        "outputId": "c941d71d-5850-4e8e-df49-34690db1b6a4"
      },
      "execution_count": null,
      "outputs": [
        {
          "output_type": "execute_result",
          "data": {
            "text/plain": [
              "      Cust ID First Name Middle Name             Last Name Prefix Suffix  \\\n",
              "0  CustID_299      sammy           d        d sample sammy                 \n",
              "1  CustID_300        mat       tommy      sample tommy mat         Junio   \n",
              "2  CustID_301     franky        fran    fran franky sample                 \n",
              "3  CustID_302    drivers       samdr  sample drivers samdr                 \n",
              "4  CustID_303    jamison        perm          jamisonperms                 \n",
              "\n",
              "                     Address Line 1 Address Line 2           City  \\\n",
              "0  123 sample street jefferson city                     jeff city   \n",
              "1  123 sample street jefferson city                 jeffersoncity   \n",
              "2             apt. 1, jefferson cit                  jeffersoncty   \n",
              "3       123 sample street any where                     any where   \n",
              "4          123 sample street anywhe                       anyhere   \n",
              "\n",
              "         State  ... Middle name last_name  prefix  suffix  \\\n",
              "0  Mississippi  ...      driver    sample                   \n",
              "1  Mississippi  ...      thomas    sample              Jr   \n",
              "2     Missouri  ...                sample                   \n",
              "3     Missouri  ...         sam    sample                   \n",
              "4     Missouri  ...      permit    sample                   \n",
              "\n",
              "                                   addr 1 addr 2            city     state  \\\n",
              "0  123 sample st jefferson city, mo 65105         Jefferson City  Missouri   \n",
              "1  123 sample st jefferson city, mo 65109         Jefferson City  Missouri   \n",
              "2         apt. 1 jefferson city, mo 65109         Jefferson City  Missouri   \n",
              "3        123 sample st anywhere, mo 65105               Anywhere  Missouri   \n",
              "4        123 sample st anywhere, mo 65105               Anywhere  Missouri   \n",
              "\n",
              "     zip       DOB_y  \n",
              "0  65105  02/14/1979  \n",
              "1  65109  02/01/1994  \n",
              "2  65109  02/01/1973  \n",
              "3  65105  03/26/2002  \n",
              "4  65105  09/01/1991  \n",
              "\n",
              "[5 rows x 25 columns]"
            ],
            "text/html": [
              "\n",
              "\n",
              "  <div id=\"df-09de946d-7c67-4b2c-b50b-3409ea38bbff\">\n",
              "    <div class=\"colab-df-container\">\n",
              "      <div>\n",
              "<style scoped>\n",
              "    .dataframe tbody tr th:only-of-type {\n",
              "        vertical-align: middle;\n",
              "    }\n",
              "\n",
              "    .dataframe tbody tr th {\n",
              "        vertical-align: top;\n",
              "    }\n",
              "\n",
              "    .dataframe thead th {\n",
              "        text-align: right;\n",
              "    }\n",
              "</style>\n",
              "<table border=\"1\" class=\"dataframe\">\n",
              "  <thead>\n",
              "    <tr style=\"text-align: right;\">\n",
              "      <th></th>\n",
              "      <th>Cust ID</th>\n",
              "      <th>First Name</th>\n",
              "      <th>Middle Name</th>\n",
              "      <th>Last Name</th>\n",
              "      <th>Prefix</th>\n",
              "      <th>Suffix</th>\n",
              "      <th>Address Line 1</th>\n",
              "      <th>Address Line 2</th>\n",
              "      <th>City</th>\n",
              "      <th>State</th>\n",
              "      <th>...</th>\n",
              "      <th>Middle name</th>\n",
              "      <th>last_name</th>\n",
              "      <th>prefix</th>\n",
              "      <th>suffix</th>\n",
              "      <th>addr 1</th>\n",
              "      <th>addr 2</th>\n",
              "      <th>city</th>\n",
              "      <th>state</th>\n",
              "      <th>zip</th>\n",
              "      <th>DOB_y</th>\n",
              "    </tr>\n",
              "  </thead>\n",
              "  <tbody>\n",
              "    <tr>\n",
              "      <th>0</th>\n",
              "      <td>CustID_299</td>\n",
              "      <td>sammy</td>\n",
              "      <td>d</td>\n",
              "      <td>d sample sammy</td>\n",
              "      <td></td>\n",
              "      <td></td>\n",
              "      <td>123 sample street jefferson city</td>\n",
              "      <td></td>\n",
              "      <td>jeff city</td>\n",
              "      <td>Mississippi</td>\n",
              "      <td>...</td>\n",
              "      <td>driver</td>\n",
              "      <td>sample</td>\n",
              "      <td></td>\n",
              "      <td></td>\n",
              "      <td>123 sample st jefferson city, mo 65105</td>\n",
              "      <td></td>\n",
              "      <td>Jefferson City</td>\n",
              "      <td>Missouri</td>\n",
              "      <td>65105</td>\n",
              "      <td>02/14/1979</td>\n",
              "    </tr>\n",
              "    <tr>\n",
              "      <th>1</th>\n",
              "      <td>CustID_300</td>\n",
              "      <td>mat</td>\n",
              "      <td>tommy</td>\n",
              "      <td>sample tommy mat</td>\n",
              "      <td></td>\n",
              "      <td>Junio</td>\n",
              "      <td>123 sample street jefferson city</td>\n",
              "      <td></td>\n",
              "      <td>jeffersoncity</td>\n",
              "      <td>Mississippi</td>\n",
              "      <td>...</td>\n",
              "      <td>thomas</td>\n",
              "      <td>sample</td>\n",
              "      <td></td>\n",
              "      <td>Jr</td>\n",
              "      <td>123 sample st jefferson city, mo 65109</td>\n",
              "      <td></td>\n",
              "      <td>Jefferson City</td>\n",
              "      <td>Missouri</td>\n",
              "      <td>65109</td>\n",
              "      <td>02/01/1994</td>\n",
              "    </tr>\n",
              "    <tr>\n",
              "      <th>2</th>\n",
              "      <td>CustID_301</td>\n",
              "      <td>franky</td>\n",
              "      <td>fran</td>\n",
              "      <td>fran franky sample</td>\n",
              "      <td></td>\n",
              "      <td></td>\n",
              "      <td>apt. 1, jefferson cit</td>\n",
              "      <td></td>\n",
              "      <td>jeffersoncty</td>\n",
              "      <td>Missouri</td>\n",
              "      <td>...</td>\n",
              "      <td></td>\n",
              "      <td>sample</td>\n",
              "      <td></td>\n",
              "      <td></td>\n",
              "      <td>apt. 1 jefferson city, mo 65109</td>\n",
              "      <td></td>\n",
              "      <td>Jefferson City</td>\n",
              "      <td>Missouri</td>\n",
              "      <td>65109</td>\n",
              "      <td>02/01/1973</td>\n",
              "    </tr>\n",
              "    <tr>\n",
              "      <th>3</th>\n",
              "      <td>CustID_302</td>\n",
              "      <td>drivers</td>\n",
              "      <td>samdr</td>\n",
              "      <td>sample drivers samdr</td>\n",
              "      <td></td>\n",
              "      <td></td>\n",
              "      <td>123 sample street any where</td>\n",
              "      <td></td>\n",
              "      <td>any where</td>\n",
              "      <td>Missouri</td>\n",
              "      <td>...</td>\n",
              "      <td>sam</td>\n",
              "      <td>sample</td>\n",
              "      <td></td>\n",
              "      <td></td>\n",
              "      <td>123 sample st anywhere, mo 65105</td>\n",
              "      <td></td>\n",
              "      <td>Anywhere</td>\n",
              "      <td>Missouri</td>\n",
              "      <td>65105</td>\n",
              "      <td>03/26/2002</td>\n",
              "    </tr>\n",
              "    <tr>\n",
              "      <th>4</th>\n",
              "      <td>CustID_303</td>\n",
              "      <td>jamison</td>\n",
              "      <td>perm</td>\n",
              "      <td>jamisonperms</td>\n",
              "      <td></td>\n",
              "      <td></td>\n",
              "      <td>123 sample street anywhe</td>\n",
              "      <td></td>\n",
              "      <td>anyhere</td>\n",
              "      <td>Missouri</td>\n",
              "      <td>...</td>\n",
              "      <td>permit</td>\n",
              "      <td>sample</td>\n",
              "      <td></td>\n",
              "      <td></td>\n",
              "      <td>123 sample st anywhere, mo 65105</td>\n",
              "      <td></td>\n",
              "      <td>Anywhere</td>\n",
              "      <td>Missouri</td>\n",
              "      <td>65105</td>\n",
              "      <td>09/01/1991</td>\n",
              "    </tr>\n",
              "  </tbody>\n",
              "</table>\n",
              "<p>5 rows × 25 columns</p>\n",
              "</div>\n",
              "      <button class=\"colab-df-convert\" onclick=\"convertToInteractive('df-09de946d-7c67-4b2c-b50b-3409ea38bbff')\"\n",
              "              title=\"Convert this dataframe to an interactive table.\"\n",
              "              style=\"display:none;\">\n",
              "\n",
              "  <svg xmlns=\"http://www.w3.org/2000/svg\" height=\"24px\"viewBox=\"0 0 24 24\"\n",
              "       width=\"24px\">\n",
              "    <path d=\"M0 0h24v24H0V0z\" fill=\"none\"/>\n",
              "    <path d=\"M18.56 5.44l.94 2.06.94-2.06 2.06-.94-2.06-.94-.94-2.06-.94 2.06-2.06.94zm-11 1L8.5 8.5l.94-2.06 2.06-.94-2.06-.94L8.5 2.5l-.94 2.06-2.06.94zm10 10l.94 2.06.94-2.06 2.06-.94-2.06-.94-.94-2.06-.94 2.06-2.06.94z\"/><path d=\"M17.41 7.96l-1.37-1.37c-.4-.4-.92-.59-1.43-.59-.52 0-1.04.2-1.43.59L10.3 9.45l-7.72 7.72c-.78.78-.78 2.05 0 2.83L4 21.41c.39.39.9.59 1.41.59.51 0 1.02-.2 1.41-.59l7.78-7.78 2.81-2.81c.8-.78.8-2.07 0-2.86zM5.41 20L4 18.59l7.72-7.72 1.47 1.35L5.41 20z\"/>\n",
              "  </svg>\n",
              "      </button>\n",
              "\n",
              "\n",
              "\n",
              "    <div id=\"df-7ebd3871-3251-43bd-99bb-06df2d6ea5c3\">\n",
              "      <button class=\"colab-df-quickchart\" onclick=\"quickchart('df-7ebd3871-3251-43bd-99bb-06df2d6ea5c3')\"\n",
              "              title=\"Suggest charts.\"\n",
              "              style=\"display:none;\">\n",
              "\n",
              "<svg xmlns=\"http://www.w3.org/2000/svg\" height=\"24px\"viewBox=\"0 0 24 24\"\n",
              "     width=\"24px\">\n",
              "    <g>\n",
              "        <path d=\"M19 3H5c-1.1 0-2 .9-2 2v14c0 1.1.9 2 2 2h14c1.1 0 2-.9 2-2V5c0-1.1-.9-2-2-2zM9 17H7v-7h2v7zm4 0h-2V7h2v10zm4 0h-2v-4h2v4z\"/>\n",
              "    </g>\n",
              "</svg>\n",
              "      </button>\n",
              "    </div>\n",
              "\n",
              "<style>\n",
              "  .colab-df-quickchart {\n",
              "    background-color: #E8F0FE;\n",
              "    border: none;\n",
              "    border-radius: 50%;\n",
              "    cursor: pointer;\n",
              "    display: none;\n",
              "    fill: #1967D2;\n",
              "    height: 32px;\n",
              "    padding: 0 0 0 0;\n",
              "    width: 32px;\n",
              "  }\n",
              "\n",
              "  .colab-df-quickchart:hover {\n",
              "    background-color: #E2EBFA;\n",
              "    box-shadow: 0px 1px 2px rgba(60, 64, 67, 0.3), 0px 1px 3px 1px rgba(60, 64, 67, 0.15);\n",
              "    fill: #174EA6;\n",
              "  }\n",
              "\n",
              "  [theme=dark] .colab-df-quickchart {\n",
              "    background-color: #3B4455;\n",
              "    fill: #D2E3FC;\n",
              "  }\n",
              "\n",
              "  [theme=dark] .colab-df-quickchart:hover {\n",
              "    background-color: #434B5C;\n",
              "    box-shadow: 0px 1px 3px 1px rgba(0, 0, 0, 0.15);\n",
              "    filter: drop-shadow(0px 1px 2px rgba(0, 0, 0, 0.3));\n",
              "    fill: #FFFFFF;\n",
              "  }\n",
              "</style>\n",
              "\n",
              "    <script>\n",
              "      async function quickchart(key) {\n",
              "        const containerElement = document.querySelector('#' + key);\n",
              "        const charts = await google.colab.kernel.invokeFunction(\n",
              "            'suggestCharts', [key], {});\n",
              "      }\n",
              "    </script>\n",
              "\n",
              "      <script>\n",
              "\n",
              "function displayQuickchartButton(domScope) {\n",
              "  let quickchartButtonEl =\n",
              "    domScope.querySelector('#df-7ebd3871-3251-43bd-99bb-06df2d6ea5c3 button.colab-df-quickchart');\n",
              "  quickchartButtonEl.style.display =\n",
              "    google.colab.kernel.accessAllowed ? 'block' : 'none';\n",
              "}\n",
              "\n",
              "        displayQuickchartButton(document);\n",
              "      </script>\n",
              "      <style>\n",
              "    .colab-df-container {\n",
              "      display:flex;\n",
              "      flex-wrap:wrap;\n",
              "      gap: 12px;\n",
              "    }\n",
              "\n",
              "    .colab-df-convert {\n",
              "      background-color: #E8F0FE;\n",
              "      border: none;\n",
              "      border-radius: 50%;\n",
              "      cursor: pointer;\n",
              "      display: none;\n",
              "      fill: #1967D2;\n",
              "      height: 32px;\n",
              "      padding: 0 0 0 0;\n",
              "      width: 32px;\n",
              "    }\n",
              "\n",
              "    .colab-df-convert:hover {\n",
              "      background-color: #E2EBFA;\n",
              "      box-shadow: 0px 1px 2px rgba(60, 64, 67, 0.3), 0px 1px 3px 1px rgba(60, 64, 67, 0.15);\n",
              "      fill: #174EA6;\n",
              "    }\n",
              "\n",
              "    [theme=dark] .colab-df-convert {\n",
              "      background-color: #3B4455;\n",
              "      fill: #D2E3FC;\n",
              "    }\n",
              "\n",
              "    [theme=dark] .colab-df-convert:hover {\n",
              "      background-color: #434B5C;\n",
              "      box-shadow: 0px 1px 3px 1px rgba(0, 0, 0, 0.15);\n",
              "      filter: drop-shadow(0px 1px 2px rgba(0, 0, 0, 0.3));\n",
              "      fill: #FFFFFF;\n",
              "    }\n",
              "  </style>\n",
              "\n",
              "      <script>\n",
              "        const buttonEl =\n",
              "          document.querySelector('#df-09de946d-7c67-4b2c-b50b-3409ea38bbff button.colab-df-convert');\n",
              "        buttonEl.style.display =\n",
              "          google.colab.kernel.accessAllowed ? 'block' : 'none';\n",
              "\n",
              "        async function convertToInteractive(key) {\n",
              "          const element = document.querySelector('#df-09de946d-7c67-4b2c-b50b-3409ea38bbff');\n",
              "          const dataTable =\n",
              "            await google.colab.kernel.invokeFunction('convertToInteractive',\n",
              "                                                     [key], {});\n",
              "          if (!dataTable) return;\n",
              "\n",
              "          const docLinkHtml = 'Like what you see? Visit the ' +\n",
              "            '<a target=\"_blank\" href=https://colab.research.google.com/notebooks/data_table.ipynb>data table notebook</a>'\n",
              "            + ' to learn more about interactive tables.';\n",
              "          element.innerHTML = '';\n",
              "          dataTable['output_type'] = 'display_data';\n",
              "          await google.colab.output.renderOutput(dataTable, element);\n",
              "          const docLink = document.createElement('div');\n",
              "          docLink.innerHTML = docLinkHtml;\n",
              "          element.appendChild(docLink);\n",
              "        }\n",
              "      </script>\n",
              "    </div>\n",
              "  </div>\n"
            ]
          },
          "metadata": {},
          "execution_count": 75
        }
      ]
    },
    {
      "cell_type": "code",
      "source": [
        "train_new.columns"
      ],
      "metadata": {
        "colab": {
          "base_uri": "https://localhost:8080/"
        },
        "id": "taWKAWi6Jvha",
        "outputId": "e3494647-7471-4934-f6aa-5aed78f9d9ea"
      },
      "execution_count": null,
      "outputs": [
        {
          "output_type": "execute_result",
          "data": {
            "text/plain": [
              "Index(['Cust ID', 'First Name', 'Middle Name', 'Last Name', 'Prefix', 'Suffix',\n",
              "       'Address Line 1', 'Address Line 2', 'City', 'State', 'Zip', 'DOB_x',\n",
              "       'Credit Bureau ID', 'id', 'first_name', 'Middle name', 'last_name',\n",
              "       'prefix', 'suffix', 'addr 1', 'addr 2', 'city', 'state', 'zip',\n",
              "       'DOB_y'],\n",
              "      dtype='object')"
            ]
          },
          "metadata": {},
          "execution_count": 76
        }
      ]
    },
    {
      "cell_type": "markdown",
      "source": [
        "## Feature extraction"
      ],
      "metadata": {
        "id": "Ee-ViBTSz81W"
      }
    },
    {
      "cell_type": "markdown",
      "source": [
        "##### Calculating the similarity scores for the name columns\n",
        " Using the Jaro winkler distance for calculating the similarity scores between the First name, Last name, Middle name both individually and also by concatinating them together to see which is best way to do.\n"
      ],
      "metadata": {
        "id": "5dtLj3cVAIzy"
      }
    },
    {
      "cell_type": "code",
      "source": [
        "!pip install jellyfish -q"
      ],
      "metadata": {
        "id": "3K3Wf4rdAocY"
      },
      "execution_count": null,
      "outputs": []
    },
    {
      "cell_type": "code",
      "source": [
        "import jellyfish\n",
        "import matplotlib.pyplot as plt\n",
        "\n",
        "# Calculating the  similarity scores for individual name components\n",
        "individual_scores = train_new.apply(lambda row: {\n",
        "  'First Name': jellyfish.jaro_winkler(row['First Name'], row['first_name']),\n",
        "  'Middle Name': jellyfish.jaro_winkler(row['Middle Name'], row['Middle name']),\n",
        "  'Last Name': jellyfish.jaro_winkler(row['Last Name'], row['last_name'])\n",
        "}, axis=1, result_type='expand')\n",
        "\n",
        "# Calculating the similarity scores for concatenated names\n",
        "concat_scores = train_new.apply(lambda row: jellyfish.jaro_winkler(\n",
        "    ' '.join([row['First Name'], row['Middle Name'], row['Last Name']]),\n",
        "    ' '.join([row['first_name'], row['Middle name'], row['last_name']])\n",
        "), axis=1)\n",
        "\n",
        "# Ploting the similarity scores for individual name components\n",
        "for col in individual_scores.columns:\n",
        "  plt.figure(figsize=(3,4))\n",
        "  plt.hist(individual_scores[col], bins=20, alpha=0.7, color='blue', label=col)\n",
        "  plt.title(f\"Similarity Scores for {col}\")\n",
        "  plt.xlabel(\"Similarity Score\")\n",
        "  plt.ylabel(\"Frequency\")\n",
        "  plt.legend()\n",
        "  plt.show()\n",
        "\n",
        "# Ploting the similarity scores for concatenated names\n",
        "plt.figure(figsize=(4,3))\n",
        "plt.hist(concat_scores, bins=20, alpha=0.7, color='green')\n",
        "plt.title(\"Similarity Scores for Concatenated Names\")\n",
        "plt.xlabel(\"Similarity Score\")\n",
        "plt.ylabel(\"Frequency\")\n",
        "plt.show()\n"
      ],
      "metadata": {
        "colab": {
          "base_uri": "https://localhost:8080/",
          "height": 1000
        },
        "id": "KdmeC43zz7zC",
        "outputId": "9e8c5ba6-2731-4e03-b02c-0843b66b3533"
      },
      "execution_count": null,
      "outputs": [
        {
          "output_type": "display_data",
          "data": {
            "text/plain": [
              "<Figure size 300x400 with 1 Axes>"
            ],
            "image/png": "[encoded data removed]"
          },
          "metadata": {}
        },
        {
          "output_type": "display_data",
          "data": {
            "text/plain": [
              "<Figure size 300x400 with 1 Axes>"
            ],
            "image/png": "[encoded data removed]"
          },
          "metadata": {}
        },
        {
          "output_type": "display_data",
          "data": {
            "text/plain": [
              "<Figure size 300x400 with 1 Axes>"
            ],
            "image/png": "[encoded data removed]"
          },
          "metadata": {}
        },
        {
          "output_type": "display_data",
          "data": {
            "text/plain": [
              "<Figure size 400x300 with 1 Axes>"
            ],
            "image/png": "[encoded data removed]"
          },
          "metadata": {}
        }
      ]
    },
    {
      "cell_type": "code",
      "source": [
        "# Combining the  individual and concatenated scores into one DataFrame\n",
        "all_scores = pd.concat([individual_scores, pd.DataFrame({'Concatenated Names': concat_scores})], axis=1)\n",
        "\n",
        "# A scatter plot with all similarity scores\n",
        "plt.figure(figsize=(6, 3))\n",
        "for col in all_scores.columns:\n",
        "  plt.scatter(all_scores[col], train_new['Credit Bureau ID'], alpha=0.5, label=col)\n",
        "\n",
        "plt.title(\"Scatter Plot of Similarity Scores vs Credit Bureau ID\")\n",
        "plt.xlabel(\"Similarity Score\")\n",
        "plt.ylabel(\"Credit Bureau ID\")\n",
        "plt.legend()\n",
        "plt.show()"
      ],
      "metadata": {
        "colab": {
          "base_uri": "https://localhost:8080/",
          "height": 333
        },
        "id": "NX0DYP6WGGlC",
        "outputId": "f69ea88b-9450-42ff-9df6-12c461fbe00f"
      },
      "execution_count": null,
      "outputs": [
        {
          "output_type": "display_data",
          "data": {
            "text/plain": [
              "<Figure size 600x300 with 1 Axes>"
            ],
            "image/png": "[encoded data removed]"
          },
          "metadata": {}
        }
      ]
    },
    {
      "cell_type": "code",
      "source": [
        "#A histogram plot for all similarity scores\n",
        "import seaborn as sns\n",
        "plt.figure(figsize=(6, 3))\n",
        "for col in all_scores.columns:\n",
        "  sns.histplot(all_scores[col], bins=20, kde=True, label=col)\n",
        "\n",
        "plt.title(\"Histogram of Similarity Scores\")\n",
        "plt.xlabel(\"Similarity Score\")\n",
        "plt.ylabel(\"Frequency\")\n",
        "plt.legend()\n",
        "plt.show()"
      ],
      "metadata": {
        "colab": {
          "base_uri": "https://localhost:8080/",
          "height": 333
        },
        "id": "PW_gVqsRbyUf",
        "outputId": "9ed0ff9c-fec6-4aa6-dcf3-928409619cb6"
      },
      "execution_count": null,
      "outputs": [
        {
          "output_type": "display_data",
          "data": {
            "text/plain": [
              "<Figure size 600x300 with 1 Axes>"
            ],
            "image/png": "[encoded data removed]"
          },
          "metadata": {}
        }
      ]
    },
    {
      "cell_type": "markdown",
      "source": [
        "After this analysis decided to go with First name and last name individually, if needed will add concatinated scores to improve the performance. So adding those columns to train new data"
      ],
      "metadata": {
        "id": "iDynDDZpQNxP"
      }
    },
    {
      "cell_type": "code",
      "source": [
        "# Saving the similarities score into train dataframe\n",
        "train_new['First Name Similarity'] = individual_scores['First Name']\n",
        "train_new['Last Name Similarity'] = individual_scores['Last Name']"
      ],
      "metadata": {
        "id": "tEXpp5h-nsNN"
      },
      "execution_count": null,
      "outputs": []
    },
    {
      "cell_type": "code",
      "source": [
        "# Similarity scores for date of birth\n",
        "def calculate_dob_similarity(row):\n",
        "  if row['DOB_x'] == 'not clear' or row['DOB_y'] == 'not clear':\n",
        "    return 0\n",
        "  try:\n",
        "    dob_x = datetime.strptime(row['DOB_x'], '%m/%d/%Y')\n",
        "    dob_y = datetime.strptime(row['DOB_y'], '%m/%d/%Y')\n",
        "  except ValueError:\n",
        "    return 0\n",
        "\n",
        "  # Calculating the similarity score considering different cases\n",
        "  if dob_x.year and dob_x.month and dob_x.day:\n",
        "    similarity = 1 / (1 + abs((dob_x - dob_y).days))\n",
        "  elif dob_x.year == dob_y.year and dob_x.month == dob_y.month:\n",
        "    similarity = 0.8\n",
        "  elif dob_x.year == dob_y.year and dob_x.day == dob_y.day:\n",
        "    similarity = 0.8\n",
        "  elif dob_x.month == dob_y.month and dob_x.day == dob_y.day:\n",
        "    similarity = 0.8\n",
        "  elif dob_x.year == dob_y.year:\n",
        "    similarity = 0.6\n",
        "  elif dob_x.month == dob_y.month:\n",
        "    similarity = 0.6\n",
        "  elif dob_x.day == dob_y.day:\n",
        "    similarity = 0.6\n",
        "  else:\n",
        "    similarity = 0.3\n",
        "  return similarity\n",
        "\n",
        "# Calculating and storing the similarity scores in the train_new DataFrame\n",
        "train_new['DOB_similarity'] = train_new.apply(calculate_dob_similarity, axis=1)\n",
        "\n",
        "# Plot of similarity scores for date of birth\n",
        "plt.figure(figsize=(3, 2))\n",
        "sns.histplot(train_new['DOB_similarity'], bins=20, color='purple')\n",
        "plt.title(\"Similarity Scores for Date of Birth\")\n",
        "plt.xlabel(\"Similarity Score\")\n",
        "plt.ylabel(\"Frequency\")\n",
        "plt.show()\n"
      ],
      "metadata": {
        "colab": {
          "base_uri": "https://localhost:8080/",
          "height": 256
        },
        "id": "50FOojt7QM5Z",
        "outputId": "dbdfe615-d882-4c61-fcbe-ca3e2120ceda"
      },
      "execution_count": null,
      "outputs": [
        {
          "output_type": "display_data",
          "data": {
            "text/plain": [
              "<Figure size 300x200 with 1 Axes>"
            ],
            "image/png": "[encoded data removed]"
          },
          "metadata": {}
        }
      ]
    },
    {
      "cell_type": "code",
      "source": [
        "# Calculating similarity score for address\n",
        "def calculate_address_similarity(row):\n",
        "  address_x = row['Address Line 1']\n",
        "  address_y = row['addr 1']\n",
        "\n",
        "  if pd.isnull(address_x) or pd.isnull(address_y):\n",
        "    return 0\n",
        "\n",
        "  return jellyfish.jaro_winkler(address_x, address_y)\n",
        "\n",
        "# Calculating the similarity score for state\n",
        "def calculate_state_similarity(row):\n",
        "  state_x = row['State']\n",
        "  state_y = row['state']\n",
        "\n",
        "  if pd.isnull(state_x) or pd.isnull(state_y):\n",
        "    return 0\n",
        "\n",
        "  return jellyfish.jaro_winkler(state_x, state_y)\n",
        "\n",
        "#similarity scores for address and state\n",
        "train_new['Address Similarity'] = train_new.apply(calculate_address_similarity, axis=1)\n",
        "train_new['State Similarity'] = train_new.apply(calculate_state_similarity, axis=1)\n",
        "\n",
        "# Ploting similarity scores for address\n",
        "plt.figure(figsize=(4, 2))\n",
        "sns.histplot(train_new['Address Similarity'], bins=20, color='orange')\n",
        "plt.title(\"Similarity Scores for Address\")\n",
        "plt.xlabel(\"Similarity Score\")\n",
        "plt.ylabel(\"Frequency\")\n",
        "plt.show()\n",
        "\n",
        "# Ploting similarity scores for state\n",
        "plt.figure(figsize=(4, 2))\n",
        "sns.histplot(train_new['State Similarity'], bins=20, color='red')\n",
        "plt.title(\"Similarity Scores for State\")\n",
        "plt.xlabel(\"Similarity Score\")\n",
        "plt.ylabel(\"Frequency\")\n",
        "plt.show()\n"
      ],
      "metadata": {
        "colab": {
          "base_uri": "https://localhost:8080/",
          "height": 495
        },
        "id": "CmH72WShpBXd",
        "outputId": "6f2abe6b-358f-4a92-c20d-76b464f2884f"
      },
      "execution_count": null,
      "outputs": [
        {
          "output_type": "display_data",
          "data": {
            "text/plain": [
              "<Figure size 400x200 with 1 Axes>"
            ],
            "image/png": "[encoded data removed]"
          },
          "metadata": {}
        },
        {
          "output_type": "display_data",
          "data": {
            "text/plain": [
              "<Figure size 400x200 with 1 Axes>"
            ],
            "image/png": "[encoded data removed]"
          },
          "metadata": {}
        }
      ]
    },
    {
      "cell_type": "code",
      "source": [
        "# Calculating the similarity scores for city\n",
        "def calculate_city_similarity(row):\n",
        "  city_x = row['City']\n",
        "  city_y = row['city']\n",
        "  if not city_x or not city_y:\n",
        "    return 0\n",
        "  similarity = jellyfish.jaro_winkler(city_x, city_y)\n",
        "  return similarity\n",
        "\n",
        "# Calculating and storing the similarity scores in the train_new DataFrame\n",
        "train_new['City Similarity'] = train_new.apply(calculate_city_similarity, axis=1)\n",
        "\n",
        "# Plot of similarity scores for city\n",
        "plt.figure(figsize=(4, 3))\n",
        "sns.histplot(train_new['City Similarity'], bins=20, color='orange')\n",
        "plt.title(\"Similarity Scores for City\")\n",
        "plt.xlabel(\"Similarity Score\")\n",
        "plt.ylabel(\"Frequency\")\n",
        "plt.show()"
      ],
      "metadata": {
        "colab": {
          "base_uri": "https://localhost:8080/",
          "height": 333
        },
        "id": "FY-M0gXtDLAp",
        "outputId": "19cfab6e-baa7-4ed6-c91f-c00eb1186d9b"
      },
      "execution_count": null,
      "outputs": [
        {
          "output_type": "display_data",
          "data": {
            "text/plain": [
              "<Figure size 400x300 with 1 Axes>"
            ],
            "image/png": "[encoded data removed]"
          },
          "metadata": {}
        }
      ]
    },
    {
      "cell_type": "code",
      "source": [
        "train_new.columns\n"
      ],
      "metadata": {
        "colab": {
          "base_uri": "https://localhost:8080/"
        },
        "id": "5ucIwo53hB-I",
        "outputId": "6b7ddde6-009a-49cb-a209-fc9baccce75e"
      },
      "execution_count": null,
      "outputs": [
        {
          "output_type": "execute_result",
          "data": {
            "text/plain": [
              "Index(['Cust ID', 'First Name', 'Middle Name', 'Last Name', 'Prefix', 'Suffix',\n",
              "       'Address Line 1', 'Address Line 2', 'City', 'State', 'Zip', 'DOB_x',\n",
              "       'Credit Bureau ID', 'id', 'first_name', 'Middle name', 'last_name',\n",
              "       'prefix', 'suffix', 'addr 1', 'addr 2', 'city', 'state', 'zip', 'DOB_y',\n",
              "       'First Name Similarity', 'Last Name Similarity', 'DOB_similarity',\n",
              "       'Address Similarity', 'State Similarity', 'City Similarity'],\n",
              "      dtype='object')"
            ]
          },
          "metadata": {},
          "execution_count": 85
        }
      ]
    },
    {
      "cell_type": "markdown",
      "source": [
        "## Model Training"
      ],
      "metadata": {
        "id": "ohHnhR91IrFZ"
      }
    },
    {
      "cell_type": "code",
      "source": [
        "from sklearn.linear_model import LogisticRegression\n",
        "from sklearn.metrics import accuracy_score, precision_score, f1_score\n",
        "from sklearn.preprocessing import OneHotEncoder\n",
        "import time\n",
        "\n",
        "# Load the credit bureau data here\n",
        "id_listing = pd.read_excel(credit_bureau_data_path)\n",
        "\n",
        "# Features columns for training\n",
        "training_features_columns = ['First Name', 'Last Name', 'City', 'DOB_x', 'Address Line 1', 'State']\n",
        "training_weights_columns = ['First Name Similarity', 'Last Name Similarity', 'DOB_similarity',\n",
        "                            'Address Similarity', 'State Similarity', 'City Similarity']\n",
        "\n",
        "# Preparing the train data\n",
        "X_train = train_new[training_features_columns]\n",
        "y_train = train_new['Credit Bureau ID']\n",
        "\n",
        "# Converting columns to string where needed\n",
        "string_columns = ['First Name', 'Last Name', 'City', 'DOB_x', 'Address Line 1', 'State']\n",
        "X_train[string_columns] = X_train[string_columns].astype(str)\n",
        "\n",
        "# Calculated aggregated weights (e.g., average similarity scores)\n",
        "sample_weights = train_new[training_weights_columns].mean(axis=1)\n",
        "\n",
        "# Performing one-hot encoding for categorical columns\n",
        "encoder = OneHotEncoder(drop='first', sparse=False)\n",
        "X_train_encoded = encoder.fit_transform(X_train)\n",
        "X_train_encoded = pd.DataFrame(X_train_encoded, columns=encoder.get_feature_names_out(X_train.columns))\n",
        "\n",
        "# Concatenated and  encoded features with the original dataset\n",
        "X_train = pd.concat([X_train.drop(training_features_columns, axis=1), X_train_encoded], axis=1)\n",
        "\n",
        "# Instantiated and trained the logistic regression model with weights\n",
        "start_time = time.time()\n",
        "model = LogisticRegression()\n",
        "model.fit(X_train, y_train, sample_weight=sample_weights)\n",
        "end_time = time.time()\n",
        "\n",
        "# Calculating processing time\n",
        "processing_time = end_time - start_time\n",
        "\n",
        "# Predict training labels\n",
        "y_train_pred = model.predict(X_train)\n",
        "\n",
        "# DataFrame of predictions with ID and predicted label\n",
        "train_predictions_df = pd.DataFrame({'Cust ID': train_new['Cust ID'], 'Predicted Label': y_train_pred})\n",
        "\n",
        "# Saving the train predictions to a CSV file\n",
        "train_predictions_df.to_csv('train_predictions.csv', index=False)\n",
        "\n",
        "# Calculating and printing accuracy, precision, and F1-score\n",
        "accuracy = accuracy_score(y_train, y_train_pred)\n",
        "precision = precision_score(y_train, y_train_pred, average='weighted')\n",
        "f1 = f1_score(y_train, y_train_pred, average='weighted')\n",
        "\n",
        "print(f\"Training Accuracy: {accuracy:.4f}\")\n",
        "print(f\"Training Precision: {precision:.4f}\")\n",
        "print(f\"Training F1-Score: {f1:.4f}\")\n",
        "print(f\"Processing Time: {processing_time:.4f} seconds\")\n"
      ],
      "metadata": {
        "colab": {
          "base_uri": "https://localhost:8080/"
        },
        "id": "JlzEp6lYJzOh",
        "outputId": "d686cae1-b49d-49ff-c274-8fa2d827294d"
      },
      "execution_count": null,
      "outputs": [
        {
          "output_type": "stream",
          "name": "stderr",
          "text": [
            "<ipython-input-105-6ba80880c622>:20: SettingWithCopyWarning: \n",
            "A value is trying to be set on a copy of a slice from a DataFrame.\n",
            "Try using .loc[row_indexer,col_indexer] = value instead\n",
            "\n",
            "See the caveats in the documentation: https://pandas.pydata.org/pandas-docs/stable/user_guide/indexing.html#returning-a-view-versus-a-copy\n",
            "  X_train[string_columns] = X_train[string_columns].astype(str)\n",
            "/usr/local/lib/python3.10/dist-packages/sklearn/preprocessing/_encoders.py:868: FutureWarning: `sparse` was renamed to `sparse_output` in version 1.2 and will be removed in 1.4. `sparse_output` is ignored unless you leave `sparse` to its default value.\n",
            "  warnings.warn(\n"
          ]
        },
        {
          "output_type": "stream",
          "name": "stdout",
          "text": [
            "Training Accuracy: 0.9437\n",
            "Training Precision: 0.9278\n",
            "Training F1-Score: 0.9317\n",
            "Processing Time: 0.7409 seconds\n"
          ]
        },
        {
          "output_type": "stream",
          "name": "stderr",
          "text": [
            "/usr/local/lib/python3.10/dist-packages/sklearn/metrics/_classification.py:1344: UndefinedMetricWarning: Precision is ill-defined and being set to 0.0 in labels with no predicted samples. Use `zero_division` parameter to control this behavior.\n",
            "  _warn_prf(average, modifier, msg_start, len(result))\n"
          ]
        }
      ]
    },
    {
      "cell_type": "markdown",
      "source": [
        "#### Blocking of the customer bureau data\n",
        "\n",
        "By iusing the record linkage trying to do blocking which indeed reduces the process time"
      ],
      "metadata": {
        "id": "Eu9rdMi_rxzT"
      }
    },
    {
      "cell_type": "code",
      "source": [
        "!pip install recordlinkage -q"
      ],
      "metadata": {
        "id": "6JC3ig_q7i-u"
      },
      "execution_count": null,
      "outputs": []
    },
    {
      "cell_type": "code",
      "source": [
        "import recordlinkage\n",
        "\n",
        "\n",
        "# Defining the blocking attributes\n",
        "id_listing_blocking_attributes = ['first_name', 'last_name', 'DOB']\n",
        "\n",
        "# Converting datetime values to strings\n",
        "id_listing['DOB'] = id_listing['DOB'].astype(str)\n",
        "\n",
        "# Created blocking keys for id_listing data\n",
        "id_listing['blocking_key'] = id_listing[id_listing_blocking_attributes].apply(lambda row: '_'.join(row), axis=1)\n"
      ],
      "metadata": {
        "id": "I1s_rn685KLT"
      },
      "execution_count": null,
      "outputs": []
    },
    {
      "cell_type": "code",
      "source": [
        "testing_features_columns = ['Cust ID', 'First Name', 'Last Name', 'City', 'DOB_x', 'Address Line 1', 'State']\n",
        "test_blocking_attributes = ['First Name', 'Last Name', 'DOB_x']\n",
        "test_data = test_new[testing_features_columns]\n",
        "\n",
        "# Converted datetime values to strings\n",
        "test_data['DOB_x'] = test_data['DOB_x'].astype(str)\n",
        "# Created blocking keys for test data\n",
        "test_data['blocking_key'] = test_data[test_blocking_attributes].apply(lambda row: '_'.join(row), axis=1)\n"
      ],
      "metadata": {
        "colab": {
          "base_uri": "https://localhost:8080/"
        },
        "id": "3My0MemW_f3x",
        "outputId": "a7f40371-8ed3-4456-afe7-1eaa00224c6a"
      },
      "execution_count": null,
      "outputs": [
        {
          "output_type": "stream",
          "name": "stderr",
          "text": [
            "<ipython-input-90-c1a6efa9e5cb>:6: SettingWithCopyWarning: \n",
            "A value is trying to be set on a copy of a slice from a DataFrame.\n",
            "Try using .loc[row_indexer,col_indexer] = value instead\n",
            "\n",
            "See the caveats in the documentation: https://pandas.pydata.org/pandas-docs/stable/user_guide/indexing.html#returning-a-view-versus-a-copy\n",
            "  test_data['DOB_x'] = test_data['DOB_x'].astype(str)\n",
            "<ipython-input-90-c1a6efa9e5cb>:8: SettingWithCopyWarning: \n",
            "A value is trying to be set on a copy of a slice from a DataFrame.\n",
            "Try using .loc[row_indexer,col_indexer] = value instead\n",
            "\n",
            "See the caveats in the documentation: https://pandas.pydata.org/pandas-docs/stable/user_guide/indexing.html#returning-a-view-versus-a-copy\n",
            "  test_data['blocking_key'] = test_data[test_blocking_attributes].apply(lambda row: '_'.join(row), axis=1)\n"
          ]
        }
      ]
    },
    {
      "cell_type": "code",
      "source": [
        "# Initialized the indexer for record linkage\n",
        "indexer = recordlinkage.Index()\n",
        "\n",
        "# Used the sorted neighborhood method for blocking\n",
        "indexer.sortedneighbourhood(left_on='blocking_key', right_on='blocking_key')\n",
        "\n",
        "# Getting the pairs of potential matches\n",
        "pairs = indexer.index(id_listing, test_data)\n",
        "print(pairs)\n",
        "\n",
        "# Initialized the compare object\n",
        "compare_cl = recordlinkage.Compare()\n",
        "\n",
        "# Adding comparison methods\n",
        "compare_cl.string('first_name', 'First Name', method='jarowinkler', threshold=0.85, label='first_name')\n",
        "compare_cl.string('last_name', 'Last Name', method='jarowinkler', threshold=0.85, label='last_name')\n",
        "\n",
        "# Computing the similarity matrix\n",
        "similarity_matrix = compare_cl.compute(pairs, id_listing, test_data)\n",
        "\n",
        "# Getting the potential matching pairs based on similarity thresholds\n",
        "potential_matches = similarity_matrix[similarity_matrix.sum(axis=1) >= 1.7]\n",
        "\n",
        "# Created a DataFrame to store the matching IDs\n",
        "matching_ids_df = pd.DataFrame(columns=['Cust_id', 'Matching_id'])\n",
        "\n",
        "# Looping through the potential matches and extract IDs\n",
        "for test_idx, listing_idx in potential_matches.index:\n",
        "    test_id = test_data.loc[test_idx, 'Cust ID']\n",
        "    listing_id = id_listing.loc[listing_idx, 'ID']\n",
        "    matching_ids_df = matching_ids_df.append({'Cust_id': test_id, 'Matching_id': listing_id}, ignore_index=True)\n",
        "\n",
        "# Saving the matching IDs to a CSV file\n",
        "matching_ids_df.to_csv('matching_ids.csv', index=False)\n",
        "\n",
        "print(\"Matching IDs saved to matching_ids.csv\")\n"
      ],
      "metadata": {
        "colab": {
          "base_uri": "https://localhost:8080/"
        },
        "id": "fCxot6Es_ULc",
        "outputId": "9a379de9-813e-4db0-f234-8feef2339332"
      },
      "execution_count": null,
      "outputs": [
        {
          "output_type": "stream",
          "name": "stdout",
          "text": [
            "MultiIndex([( 73614, 44),\n",
            "            (100273, 42),\n",
            "            ( 73611, 28)],\n",
            "           )\n",
            "Matching IDs saved to matching_ids.csv\n"
          ]
        }
      ]
    },
    {
      "cell_type": "code",
      "source": [
        "from tqdm import tqdm\n",
        "from jellyfish import jaro_winkler_similarity\n",
        "\n",
        "\n",
        "#  Blocking attributes for test data\n",
        "test_blocking_attributes = ['First Name', 'Last Name', 'DOB_x']\n",
        "\n",
        "# Converting datetime values to strings\n",
        "test_data['DOB'] = test_data['DOB_x'].astype(str)\n",
        "\n",
        "# A DataFrame to store matching results\n",
        "matching_results = []\n",
        "\n",
        "# Iterated over each entity in the test data\n",
        "for test_index, test_row in tqdm(test_data.iterrows(), total=len(test_data)):\n",
        "  best_match_similarity = 0\n",
        "  best_match_id = None\n",
        "\n",
        "  # Iterated over each entity in the id_listing\n",
        "  for id_listing_index, id_listing_row in id_listing.iterrows():\n",
        "    # Calculating the Jaro-Winkler similarity for the blocking attributes\n",
        "    similarity = jaro_winkler_similarity(\n",
        "      f\"{test_row['First Name']}_{test_row['Last Name']}_{test_row['DOB']}\",\n",
        "      f\"{id_listing_row['first_name']}_{id_listing_row['last_name']}_{id_listing_row['DOB']}\"\n",
        "    )\n",
        "\n",
        "    # Best match if similarity is higher\n",
        "    if similarity > best_match_similarity:\n",
        "      best_match_similarity = similarity\n",
        "      best_match_id = id_listing_row['id']\n",
        "\n",
        "  # Appending the matching result to the list\n",
        "  matching_results.append({'Cust_ID': test_row['Cust ID'], 'Matching_id': best_match_id})\n",
        "\n",
        "# DataFrame from matching_results\n",
        "matching_ids_df = pd.DataFrame(matching_results)\n",
        "\n",
        "# Saving the matching IDs to a CSV file\n",
        "matching_ids_df.to_csv('matching_ids.csv', index=False)\n",
        "\n",
        "print(\"Matching IDs saved to matching_ids.csv\")\n"
      ],
      "metadata": {
        "colab": {
          "base_uri": "https://localhost:8080/"
        },
        "id": "rO-AmZW8CAC-",
        "outputId": "52886a41-cd9d-4475-b07f-26cc1ddee3ef"
      },
      "execution_count": null,
      "outputs": [
        {
          "output_type": "stream",
          "name": "stderr",
          "text": [
            "<ipython-input-92-b0f1d204180a>:9: SettingWithCopyWarning: \n",
            "A value is trying to be set on a copy of a slice from a DataFrame.\n",
            "Try using .loc[row_indexer,col_indexer] = value instead\n",
            "\n",
            "See the caveats in the documentation: https://pandas.pydata.org/pandas-docs/stable/user_guide/indexing.html#returning-a-view-versus-a-copy\n",
            "  test_data['DOB'] = test_data['DOB_x'].astype(str)\n",
            "100%|██████████| 54/54 [06:54<00:00,  7.67s/it]"
          ]
        },
        {
          "output_type": "stream",
          "name": "stdout",
          "text": [
            "Matching IDs saved to matching_ids.csv\n"
          ]
        },
        {
          "output_type": "stream",
          "name": "stderr",
          "text": [
            "\n"
          ]
        }
      ]
    },
    {
      "cell_type": "code",
      "source": [
        "from sklearn.metrics import accuracy_score, precision_score, recall_score, f1_score\n",
        "\n",
        "# Merging matching_ids_df with test_out_data on Cust_ID and Credit Bureau ID\n",
        "merged_data = pd.merge(matching_ids_df, test_out, left_on='Cust_ID', right_on='Cust ID')\n",
        "\n",
        "# Metrics\n",
        "y_true = merged_data['Credit Bureau ID']\n",
        "y_pred = merged_data['Matching_id']\n",
        "\n",
        "accuracy = accuracy_score(y_true, y_pred)\n",
        "precision = precision_score(y_true, y_pred, average='weighted')\n",
        "recall = recall_score(y_true, y_pred, average='weighted')\n",
        "f1 = f1_score(y_true, y_pred, average='weighted')\n",
        "\n",
        "# The metrics\n",
        "print(f\"Accuracy: {accuracy:.4f}\")\n",
        "print(f\"Precision: {precision:.4f}\")\n",
        "print(f\"Recall: {recall:.4f}\")\n",
        "print(f\"F1-Score: {f1:.4f}\")"
      ],
      "metadata": {
        "colab": {
          "base_uri": "https://localhost:8080/"
        },
        "id": "iY5x7Ev3Jf-m",
        "outputId": "146a894d-f3e1-45a1-a5b3-a71d66047125"
      },
      "execution_count": null,
      "outputs": [
        {
          "output_type": "stream",
          "name": "stdout",
          "text": [
            "Accuracy: 0.1481\n",
            "Precision: 0.1481\n",
            "Recall: 0.1481\n",
            "F1-Score: 0.1481\n"
          ]
        },
        {
          "output_type": "stream",
          "name": "stderr",
          "text": [
            "/usr/local/lib/python3.10/dist-packages/sklearn/metrics/_classification.py:1344: UndefinedMetricWarning: Precision is ill-defined and being set to 0.0 in labels with no predicted samples. Use `zero_division` parameter to control this behavior.\n",
            "  _warn_prf(average, modifier, msg_start, len(result))\n",
            "/usr/local/lib/python3.10/dist-packages/sklearn/metrics/_classification.py:1344: UndefinedMetricWarning: Recall is ill-defined and being set to 0.0 in labels with no true samples. Use `zero_division` parameter to control this behavior.\n",
            "  _warn_prf(average, modifier, msg_start, len(result))\n"
          ]
        }
      ]
    },
    {
      "cell_type": "code",
      "source": [
        "def calculate_date_of_birth_similarity(dob_x, dob_y):\n",
        "  if dob_x == 'not clear' or dob_y == 'not clear':\n",
        "    return 0\n",
        "\n",
        "  try:\n",
        "    dob_x = datetime.strptime(dob_x, '%m/%d/%Y')\n",
        "    dob_y = datetime.strptime(dob_y, '%m/%d/%Y')\n",
        "  except ValueError:\n",
        "    return 0\n",
        "\n",
        "  # Calculating similarity score considering different cases\n",
        "  if dob_x.year and dob_x.month and dob_x.day:\n",
        "    similarity = 1 / (1 + abs((dob_x - dob_y).days))\n",
        "  elif dob_x.year == dob_y.year and dob_x.month == dob_y.month:\n",
        "    similarity = 0.8\n",
        "  elif dob_x.year == dob_y.year and dob_x.day == dob_y.day:\n",
        "    similarity = 0.8\n",
        "  elif dob_x.month == dob_y.month and dob_x.day == dob_y.day:\n",
        "    similarity = 0.8\n",
        "  elif dob_x.year == dob_y.year:\n",
        "    similarity = 0.6\n",
        "  elif dob_x.month == dob_y.month:\n",
        "    similarity = 0.6\n",
        "  elif dob_x.day == dob_y.day:\n",
        "    similarity = 0.6\n",
        "  else:\n",
        "    similarity = 0.3\n",
        "  return similarity\n",
        "  calculate_date_of_birth_similarity(test_row['DOB_x'], id_listing_row['DOB'])"
      ],
      "metadata": {
        "id": "Y0R9IwPqdXgP"
      },
      "execution_count": null,
      "outputs": []
    },
    {
      "cell_type": "markdown",
      "source": [
        "##### Cleaning the validation dataset"
      ],
      "metadata": {
        "id": "Xq6BMwQuNUow"
      }
    },
    {
      "cell_type": "code",
      "source": [
        "val_in.isna().sum()"
      ],
      "metadata": {
        "colab": {
          "base_uri": "https://localhost:8080/"
        },
        "id": "PGT_GuUsNYml",
        "outputId": "21d8f642-4389-4483-d304-578c6c0bbf95"
      },
      "execution_count": null,
      "outputs": [
        {
          "output_type": "execute_result",
          "data": {
            "text/plain": [
              "Cust ID            0\n",
              "First Name         0\n",
              "Middle Name       16\n",
              "Last Name          0\n",
              "Prefix            54\n",
              "Suffix            51\n",
              "Address Line 1     0\n",
              "Address Line 2    46\n",
              "City               0\n",
              "State              0\n",
              "Zip                0\n",
              "DOB                0\n",
              "dtype: int64"
            ]
          },
          "metadata": {},
          "execution_count": 97
        }
      ]
    },
    {
      "cell_type": "code",
      "source": [
        "#Handling the missing values\n",
        "# Filling these columns with empty string placeholder\n",
        "empty_placeholder_columns = ['Middle Name', 'Prefix', 'Suffix','Address Line 2']\n",
        "\n",
        "# Applying empty string placeholder\n",
        "val_in[empty_placeholder_columns] = val_in[empty_placeholder_columns].fillna('')"
      ],
      "metadata": {
        "id": "Wvhcl5oHRY9M"
      },
      "execution_count": null,
      "outputs": []
    },
    {
      "cell_type": "code",
      "source": [
        "#standardizing the validation data\n",
        "# Make a copy of the DataFrame to work with\n",
        "val_in_new = val_in.copy()\n",
        "\n",
        "# Standardizing the DOB format to month/day/year\n",
        "val_in_new.loc[:, 'DOB'] = val_in_new['DOB'].apply(custom_parse)\n",
        "\n",
        "\n",
        "# Guessing the state names using mapping and guessing\n",
        "val_in_new.loc[:, 'State'] = val_in_new['State'].apply(guess_state)\n",
        "\n",
        "# Standardizing Zip Code format to first five characters\n",
        "val_in_new.loc[:, 'Zip'] = val_in_new['Zip'].apply(lambda zip_code: re.sub(r'[^\\d-]', '', str(zip_code)))\n",
        "\n",
        "\n",
        "# Standardizing the name columns to lowercase and removing the leading/trailing spaces, also cleaning the ,\n",
        "name_columns = ['First Name', 'Middle Name', 'Last Name']\n",
        "for col in name_columns:\n",
        "  val_in_new.loc[:, col] = val_in_new[col].str.strip().str.lower()\n",
        "  val_in_new[col] = val_in_new[col].str.split(',').apply(lambda parts: [part.strip() for part in parts])\n",
        "  val_in_new[col] = val_in_new[col].apply(lambda parts: ' '.join(parts) if parts and len(parts[0]) > 0 else '')\n",
        "\n",
        "\n",
        "# Standardizing the address columns to lowercase and remove leading/trailing spaces\n",
        "address_columns = ['Address Line 1', 'Address Line 2']\n",
        "for col in address_columns:\n",
        "  val_in_new.loc[:, col] = val_in_new[col].str.strip().str.lower()\n",
        "\n",
        "\n",
        "# Standardizing the City column using lowercase, removing leading/trailing spaces, and non-alphanumeric characters\n",
        "val_in_new['City'] = val_in_new['City'].str.strip().str.lower().apply(lambda city: re.sub(r'[^a-zA-Z0-9\\s]', '', city))\n"
      ],
      "metadata": {
        "id": "UW4_q3aUSU4m"
      },
      "execution_count": null,
      "outputs": []
    },
    {
      "cell_type": "code",
      "source": [
        "val_in_new.columns"
      ],
      "metadata": {
        "colab": {
          "base_uri": "https://localhost:8080/"
        },
        "id": "h53jvlymTXwE",
        "outputId": "c278dce4-b436-4a47-cdf2-17ef89d2e9a9"
      },
      "execution_count": null,
      "outputs": [
        {
          "output_type": "execute_result",
          "data": {
            "text/plain": [
              "Index(['Cust ID', 'First Name', 'Middle Name', 'Last Name', 'Prefix', 'Suffix',\n",
              "       'Address Line 1', 'Address Line 2', 'City', 'State', 'Zip', 'DOB'],\n",
              "      dtype='object')"
            ]
          },
          "metadata": {},
          "execution_count": 101
        }
      ]
    },
    {
      "cell_type": "code",
      "source": [
        "from tqdm import tqdm\n",
        "from jellyfish import jaro_winkler_similarity\n",
        "\n",
        "# Blocking attributes for validation data\n",
        "val_blocking_attributes = ['First Name', 'Last Name', 'DOB']\n",
        "\n",
        "# Converting datetime values to strings\n",
        "val_in_new['DOB'] = val_in_new['DOB'].astype(str)\n",
        "\n",
        "# A DataFrame to store matching results\n",
        "matching_results = []\n",
        "\n",
        "# Iterate over each entity in the validation data\n",
        "for val_index, val_row in tqdm(val_in_new.iterrows(), total=len(val_in_new)):\n",
        "    best_match_similarity = 0\n",
        "    best_match_id = None\n",
        "\n",
        "    for id_listing_index, id_listing_row in id_listing.iterrows():\n",
        "        # Calculating the Jaro-Winkler similarity for the blocking attributes\n",
        "        similarity = jaro_winkler_similarity(\n",
        "            f\"{val_row['First Name']}_{val_row['Last Name']}_{val_row['DOB']}\",\n",
        "            f\"{id_listing_row['first_name']}_{id_listing_row['last_name']}_{id_listing_row['DOB']}\"\n",
        "        )\n",
        "\n",
        "        # Best match if similarity is higher\n",
        "        if similarity > best_match_similarity:\n",
        "            best_match_similarity = similarity\n",
        "            best_match_id = id_listing_row['id']\n",
        "\n",
        "    # Appending the matching result to the list\n",
        "    matching_results.append({'Cust_ID': val_row['Cust ID'], 'Matching_id': best_match_id})\n",
        "\n",
        "# DataFrame from matching_results\n",
        "matching_ids_df = pd.DataFrame(matching_results)\n",
        "\n",
        "# Saving the matching IDs to a CSV file\n",
        "matching_ids_df.to_csv('matching_ids_validation.csv', index=False)\n",
        "\n",
        "print(\"Matching IDs for validation data saved to matching_ids_validation.csv\")\n"
      ],
      "metadata": {
        "colab": {
          "base_uri": "https://localhost:8080/"
        },
        "id": "E6OihlVdEQFd",
        "outputId": "05c599f6-f8dc-4fa4-d0bc-c1c9e96434a3"
      },
      "execution_count": null,
      "outputs": [
        {
          "output_type": "stream",
          "name": "stderr",
          "text": [
            "100%|██████████| 54/54 [07:01<00:00,  7.80s/it]"
          ]
        },
        {
          "output_type": "stream",
          "name": "stdout",
          "text": [
            "Matching IDs for validation data saved to matching_ids_validation.csv\n"
          ]
        },
        {
          "output_type": "stream",
          "name": "stderr",
          "text": [
            "\n"
          ]
        }
      ]
    },
    {
      "cell_type": "markdown",
      "source": [
        "## Application Form\n",
        "###### Using Flask and ngrok"
      ],
      "metadata": {
        "id": "WlqYnsKZeIAX"
      }
    },
    {
      "cell_type": "code",
      "source": [
        "!pip install flask-ngrok -q\n"
      ],
      "metadata": {
        "id": "lbTHprugkhhU"
      },
      "execution_count": null,
      "outputs": []
    },
    {
      "cell_type": "code",
      "source": [
        "!pip install pyngrok -q\n"
      ],
      "metadata": {
        "id": "JxbNMmUQKxCC"
      },
      "execution_count": null,
      "outputs": []
    },
    {
      "cell_type": "code",
      "source": [
        "from IPython.display import display, HTML\n",
        "html_form = \"\"\"\n",
        "<!DOCTYPE html>\n",
        "<html>\n",
        "<head>\n",
        "    <title>New Account Application Form</title>\n",
        "</head>\n",
        "<body>\n",
        "     <form action=\"#\" method=\"post\">\n",
        "    <h1>New Account Application Form</h1>\n",
        "    <form action=\"/application_form\" method=\"post\">\n",
        "        <!-- Account Holder Information -->\n",
        "        <h2>Account Holder Information</h2>\n",
        "        <label for=\"first_name\">First Name:</label>\n",
        "        <input type=\"text\" name=\"first_name\" required><br>\n",
        "\n",
        "        <label for=\"middle_name\">Middle Name:</label>\n",
        "        <input type=\"text\" name=\"middle_name\"><br>\n",
        "\n",
        "        <label for=\"last_name\">Last Name:</label>\n",
        "        <input type=\"text\" name=\"last_name\" required><br>\n",
        "\n",
        "        <label for=\"title\">Title:</label>\n",
        "        <input type=\"text\" name=\"title\"><br>\n",
        "\n",
        "        <label for=\"suffix\">Suffix:</label>\n",
        "        <input type=\"text\" name=\"suffix\"><br>\n",
        "\n",
        "        <label for=\"date_of_birth\">Date of Birth:</label>\n",
        "        <input type=\"date\" name=\"date_of_birth\" required><br>\n",
        "\n",
        "        <label for=\"ssn\">Social Security Number:</label>\n",
        "        <input type=\"text\" name=\"ssn\" required><br>\n",
        "\n",
        "        <label for=\"gender\">Gender:</label>\n",
        "        <input type=\"text\" name=\"gender\"><br>\n",
        "\n",
        "        <label for=\"nationality\">Nationality:</label>\n",
        "        <input type=\"text\" name=\"nationality\"><br>\n",
        "\n",
        "        <label for=\"marital_status\">Marital Status:</label>\n",
        "        <input type=\"text\" name=\"marital_status\"><br>\n",
        "\n",
        "        <!-- Contact Information -->\n",
        "        <h2>Contact Information</h2>\n",
        "        <label for=\"address\">Address:</label>\n",
        "        <input type=\"text\" name=\"address\" required><br>\n",
        "\n",
        "        <label for=\"address_2\">Address 2:</label>\n",
        "        <input type=\"text\" name=\"address_2\"><br>\n",
        "\n",
        "        <label for=\"city\">City:</label>\n",
        "        <input type=\"text\" name=\"city\"><br>\n",
        "\n",
        "        <label for=\"state\">State/Province:</label>\n",
        "        <input type=\"text\" name=\"state\"><br>\n",
        "\n",
        "        <label for=\"state_abbr\">State Abbreviation:</label>\n",
        "        <input type=\"text\" name=\"state_abbr\"><br>\n",
        "\n",
        "        <label for=\"postal_code\">Postal/ZIP Code:</label>\n",
        "        <input type=\"text\" name=\"postal_code\"><br>\n",
        "\n",
        "        <label for=\"country\">Country:</label>\n",
        "        <input type=\"text\" name=\"country\"><br>\n",
        "\n",
        "        <label for=\"email\">Email Address:</label>\n",
        "        <input type=\"email\" name=\"email\" required><br>\n",
        "\n",
        "        <label for=\"phone_number\">Phone Number:</label>\n",
        "        <input type=\"tel\" name=\"phone_number\"><br>\n",
        "\n",
        "        <label for=\"mobile_number\">Mobile Number:</label>\n",
        "        <input type=\"tel\" name=\"mobile_number\"><br>\n",
        "\n",
        "        <label for=\"perm_addr_diff\">Permanent Address Different:</label>\n",
        "        <input type=\"checkbox\" name=\"perm_addr_diff\"><br>\n",
        "\n",
        "        <label for=\"permanent_address_1\">Permanent Address 1:</label>\n",
        "        <input type=\"text\" name=\"permanent_address_1\"><br>\n",
        "\n",
        "        <label for=\"permanent_address_2\">Permanent Address 2:</label>\n",
        "        <input type=\"text\" name=\"permanent_address_2\"><br>\n",
        "\n",
        "        <label for=\"permanent_city\">Permanent City:</label>\n",
        "        <input type=\"text\" name=\"permanent_city\"><br>\n",
        "\n",
        "        <label for=\"permanent_state\">Permanent State/Province:</label>\n",
        "        <input type=\"text\" name=\"permanent_state\"><br>\n",
        "\n",
        "        <label for=\"permanent_state_abbr\">Permanent State Abbreviation:</label>\n",
        "        <input type=\"text\" name=\"permanent_state_abbr\"><br>\n",
        "\n",
        "        <label for=\"permanent_postal_code\">Permanent Postal/ZIP Code:</label>\n",
        "        <input type=\"text\" name=\"permanent_postal_code\"><br>\n",
        "\n",
        "        <label for=\"permanent_country\">Permanent Country:</label>\n",
        "        <input type=\"text\" name=\"permanent_country\"><br>\n",
        "\n",
        "        <!-- Identification and Verification -->\n",
        "        <h2>Identification and Verification</h2>\n",
        "        <label for=\"gov_id_type\">Government-Issued ID Type:</label>\n",
        "        <input type=\"text\" name=\"gov_id_type\" required><br>\n",
        "\n",
        "        <label for=\"id_number\">ID Number:</label>\n",
        "        <input type=\"text\" name=\"id_number\" required><br>\n",
        "\n",
        "        <label for=\"id_expiration_date\">ID Expiration Date:</label>\n",
        "        <input type=\"date\" name=\"id_expiration_date\"><br>\n",
        "\n",
        "        <!-- Financial Information -->\n",
        "        <h2>Financial Information</h2>\n",
        "        <h2>Financial Information</h2>\n",
        "        <label for=\"employment_status\">Employment Status:</label>\n",
        "        <select id=\"employment_status\" name=\"employment_status\">\n",
        "            <option value=\"Employed\">Employed</option>\n",
        "            <option value=\"Self-Employed\">Self-Employed</option>\n",
        "            <option value=\"Unemployed\">Unemployed</option>\n",
        "        </select>\n",
        "        <br>\n",
        "        <label for=\"annual_income\">Annual Income:</label>\n",
        "        <input type=\"text\" id=\"annual_income\" name=\"annual_income\">\n",
        "        <br>\n",
        "        <label for=\"employer_name\">Employer's Name:</label>\n",
        "        <input type=\"text\" id=\"employer_name\" name=\"employer_name\">\n",
        "        <br>\n",
        "        <!-- Include other financial fields here -->\n",
        "\n",
        "        <!-- Occupation -->\n",
        "        <label for=\"occupation\">Occupation:</label>\n",
        "        <input type=\"text\" id=\"occupation\" name=\"occupation\">\n",
        "        <br>\n",
        "\n",
        "        <!-- Images -->\n",
        "        <h2>Images</h2>\n",
        "        <label for=\"front_image\">Front Image Upload:</label>\n",
        "        <input type=\"file\" id=\"front_image\" name=\"front_image\">\n",
        "        <br>\n",
        "        <label for=\"back_image\">Back Image Upload:</label>\n",
        "        <input type=\"file\" id=\"back_image\" name=\"back_image\">\n",
        "        <br>\n",
        "        <h2> Submit Application</h2>\n",
        "        <input type=\"submit\" value=\"Submit\">\n",
        "         </form>\n",
        "</body>\n",
        "</html>\n",
        "        \"\"\"\n",
        "display(HTML(html_form))"
      ],
      "metadata": {
        "colab": {
          "base_uri": "https://localhost:8080/",
          "height": 1000
        },
        "id": "Tc-LODgvnCDO",
        "outputId": "2d4b39e4-865c-4ec4-b728-56f2e8c28daf"
      },
      "execution_count": null,
      "outputs": [
        {
          "output_type": "display_data",
          "data": {
            "text/plain": [
              "<IPython.core.display.HTML object>"
            ],
            "text/html": [
              "\n",
              "<!DOCTYPE html>\n",
              "<html>\n",
              "<head>\n",
              "    <title>New Account Application Form</title>\n",
              "</head>\n",
              "<body>\n",
              "     <form action=\"#\" method=\"post\">\n",
              "    <h1>New Account Application Form</h1>\n",
              "    <form action=\"/application_form\" method=\"post\">\n",
              "        <!-- Account Holder Information -->\n",
              "        <h2>Account Holder Information</h2>\n",
              "        <label for=\"first_name\">First Name:</label>\n",
              "        <input type=\"text\" name=\"first_name\" required><br>\n",
              "\n",
              "        <label for=\"middle_name\">Middle Name:</label>\n",
              "        <input type=\"text\" name=\"middle_name\"><br>\n",
              "\n",
              "        <label for=\"last_name\">Last Name:</label>\n",
              "        <input type=\"text\" name=\"last_name\" required><br>\n",
              "\n",
              "        <label for=\"title\">Title:</label>\n",
              "        <input type=\"text\" name=\"title\"><br>\n",
              "\n",
              "        <label for=\"suffix\">Suffix:</label>\n",
              "        <input type=\"text\" name=\"suffix\"><br>\n",
              "\n",
              "        <label for=\"date_of_birth\">Date of Birth:</label>\n",
              "        <input type=\"date\" name=\"date_of_birth\" required><br>\n",
              "\n",
              "        <label for=\"ssn\">Social Security Number:</label>\n",
              "        <input type=\"text\" name=\"ssn\" required><br>\n",
              "\n",
              "        <label for=\"gender\">Gender:</label>\n",
              "        <input type=\"text\" name=\"gender\"><br>\n",
              "\n",
              "        <label for=\"nationality\">Nationality:</label>\n",
              "        <input type=\"text\" name=\"nationality\"><br>\n",
              "\n",
              "        <label for=\"marital_status\">Marital Status:</label>\n",
              "        <input type=\"text\" name=\"marital_status\"><br>\n",
              "\n",
              "        <!-- Contact Information -->\n",
              "        <h2>Contact Information</h2>\n",
              "        <label for=\"address\">Address:</label>\n",
              "        <input type=\"text\" name=\"address\" required><br>\n",
              "\n",
              "        <label for=\"address_2\">Address 2:</label>\n",
              "        <input type=\"text\" name=\"address_2\"><br>\n",
              "\n",
              "        <label for=\"city\">City:</label>\n",
              "        <input type=\"text\" name=\"city\"><br>\n",
              "\n",
              "        <label for=\"state\">State/Province:</label>\n",
              "        <input type=\"text\" name=\"state\"><br>\n",
              "\n",
              "        <label for=\"state_abbr\">State Abbreviation:</label>\n",
              "        <input type=\"text\" name=\"state_abbr\"><br>\n",
              "\n",
              "        <label for=\"postal_code\">Postal/ZIP Code:</label>\n",
              "        <input type=\"text\" name=\"postal_code\"><br>\n",
              "\n",
              "        <label for=\"country\">Country:</label>\n",
              "        <input type=\"text\" name=\"country\"><br>\n",
              "\n",
              "        <label for=\"email\">Email Address:</label>\n",
              "        <input type=\"email\" name=\"email\" required><br>\n",
              "\n",
              "        <label for=\"phone_number\">Phone Number:</label>\n",
              "        <input type=\"tel\" name=\"phone_number\"><br>\n",
              "\n",
              "        <label for=\"mobile_number\">Mobile Number:</label>\n",
              "        <input type=\"tel\" name=\"mobile_number\"><br>\n",
              "\n",
              "        <label for=\"perm_addr_diff\">Permanent Address Different:</label>\n",
              "        <input type=\"checkbox\" name=\"perm_addr_diff\"><br>\n",
              "\n",
              "        <label for=\"permanent_address_1\">Permanent Address 1:</label>\n",
              "        <input type=\"text\" name=\"permanent_address_1\"><br>\n",
              "\n",
              "        <label for=\"permanent_address_2\">Permanent Address 2:</label>\n",
              "        <input type=\"text\" name=\"permanent_address_2\"><br>\n",
              "\n",
              "        <label for=\"permanent_city\">Permanent City:</label>\n",
              "        <input type=\"text\" name=\"permanent_city\"><br>\n",
              "\n",
              "        <label for=\"permanent_state\">Permanent State/Province:</label>\n",
              "        <input type=\"text\" name=\"permanent_state\"><br>\n",
              "\n",
              "        <label for=\"permanent_state_abbr\">Permanent State Abbreviation:</label>\n",
              "        <input type=\"text\" name=\"permanent_state_abbr\"><br>\n",
              "\n",
              "        <label for=\"permanent_postal_code\">Permanent Postal/ZIP Code:</label>\n",
              "        <input type=\"text\" name=\"permanent_postal_code\"><br>\n",
              "\n",
              "        <label for=\"permanent_country\">Permanent Country:</label>\n",
              "        <input type=\"text\" name=\"permanent_country\"><br>\n",
              "\n",
              "        <!-- Identification and Verification -->\n",
              "        <h2>Identification and Verification</h2>\n",
              "        <label for=\"gov_id_type\">Government-Issued ID Type:</label>\n",
              "        <input type=\"text\" name=\"gov_id_type\" required><br>\n",
              "\n",
              "        <label for=\"id_number\">ID Number:</label>\n",
              "        <input type=\"text\" name=\"id_number\" required><br>\n",
              "\n",
              "        <label for=\"id_expiration_date\">ID Expiration Date:</label>\n",
              "        <input type=\"date\" name=\"id_expiration_date\"><br>\n",
              "\n",
              "        <!-- Financial Information -->\n",
              "        <h2>Financial Information</h2>\n",
              "        <h2>Financial Information</h2>\n",
              "        <label for=\"employment_status\">Employment Status:</label>\n",
              "        <select id=\"employment_status\" name=\"employment_status\">\n",
              "            <option value=\"Employed\">Employed</option>\n",
              "            <option value=\"Self-Employed\">Self-Employed</option>\n",
              "            <option value=\"Unemployed\">Unemployed</option>\n",
              "        </select>\n",
              "        <br>\n",
              "        <label for=\"annual_income\">Annual Income:</label>\n",
              "        <input type=\"text\" id=\"annual_income\" name=\"annual_income\">\n",
              "        <br>\n",
              "        <label for=\"employer_name\">Employer's Name:</label>\n",
              "        <input type=\"text\" id=\"employer_name\" name=\"employer_name\">\n",
              "        <br>\n",
              "        <!-- Include other financial fields here -->\n",
              "\n",
              "        <!-- Occupation -->\n",
              "        <label for=\"occupation\">Occupation:</label>\n",
              "        <input type=\"text\" id=\"occupation\" name=\"occupation\">\n",
              "        <br>\n",
              "\n",
              "        <!-- Images -->\n",
              "        <h2>Images</h2>\n",
              "        <label for=\"front_image\">Front Image Upload:</label>\n",
              "        <input type=\"file\" id=\"front_image\" name=\"front_image\">\n",
              "        <br>\n",
              "        <label for=\"back_image\">Back Image Upload:</label>\n",
              "        <input type=\"file\" id=\"back_image\" name=\"back_image\">\n",
              "        <br>\n",
              "        <h2> Submit Application</h2>\n",
              "        <input type=\"submit\" value=\"Submit\">\n",
              "         </form>\n",
              "</body>\n",
              "</html>\n",
              "        "
            ]
          },
          "metadata": {}
        }
      ]
    },
    {
      "cell_type": "code",
      "source": [
        "from flask import Flask, request, render_template\n",
        "from IPython.display import display, HTML\n",
        "from pyngrok import ngrok"
      ],
      "metadata": {
        "id": "6i45zqxQKVX1"
      },
      "execution_count": null,
      "outputs": []
    },
    {
      "cell_type": "code",
      "source": [
        "port_no=5000"
      ],
      "metadata": {
        "id": "kQAklPLzK2eM"
      },
      "execution_count": null,
      "outputs": []
    },
    {
      "cell_type": "code",
      "source": [
        "from logging import PercentStyle\n",
        "app = Flask(__name__, template_folder=\"/content/drive/MyDrive/templates\")\n",
        "ngrok.set_auth_token(\"2TzEyQyfraG2Z4nEhVnmhkc1g42_32rwiBao1Tuj5HVVcePan\")\n",
        "public_url =  ngrok.connect(port_no).public_url\n",
        "public_url = public_url.replace(\"http://\", \"https://\")\n",
        "\n",
        "\n",
        "# @app.route(\"/\")\n",
        "# def home():\n",
        "#     return f\"Running Flask on Google Colab!\"\n",
        "\n",
        "# print(f\"To acces the Gloable link please click {public_url}\")\n",
        "\n",
        "@app.route(\"/application_form\", methods=[\"GET\", \"POST\"])\n",
        "def application_form():\n",
        "  if request.method == \"POST\":\n",
        "    # Retrieve form data\n",
        "    first_name = request.form.get(\"first_name\")\n",
        "    middle_name = request.form.get(\"middle_name\")\n",
        "    last_name = request.form.get(\"last_name\")\n",
        "    title = request.form.get(\"title\")\n",
        "    suffix = request.form.get(\"suffix\")\n",
        "    date_of_birth = request.form.get(\"date_of_birth\")\n",
        "    ssn = request.form.get(\"ssn\")\n",
        "    gender = request.form.get(\"gender\")\n",
        "    nationality = request.form.get(\"nationality\")\n",
        "    marital_status = request.form.get(\"marital_status\")\n",
        "    address = request.form.get(\"address\")\n",
        "    address_2 = request.form.get(\"address_2\")\n",
        "    city = request.form.get(\"city\")\n",
        "    state = request.form.get(\"state\")\n",
        "    state_abbr = request.form.get(\"state_abbr\")\n",
        "    postal_code = request.form.get(\"postal_code\")\n",
        "    country = request.form.get(\"country\")\n",
        "    email = request.form.get(\"email\")\n",
        "    phone_number = request.form.get(\"phone_number\")\n",
        "    mobile_number = request.form.get(\"mobile_number\")\n",
        "    perm_addr_diff = request.form.get(\"perm_addr_diff\")\n",
        "    permanent_address_1 = request.form.get(\"permanent_address_1\")\n",
        "    permanent_address_2 = request.form.get(\"permanent_address_2\")\n",
        "    permanent_city = request.form.get(\"permanent_city\")\n",
        "    permanent_state = request.form.get(\"permanent_state\")\n",
        "    permanent_state_abbr = request.form.get(\"permanent_state_abbr\")\n",
        "    permanent_postal_code = request.form.get(\"permanent_postal_code\")\n",
        "    permanent_country = request.form.get(\"permanent_country\")\n",
        "    gov_id_type = request.form.get(\"gov_id_type\")\n",
        "    id_number = request.form.get(\"id_number\")\n",
        "    id_expiration_date = request.form.get(\"id_expiration_date\")\n",
        "    employment_status = request.form.get(\"employment_status\")\n",
        "    annual_income = request.form.get(\"annual_income\")\n",
        "    employer_name = request.form.get(\"employer_name\")\n",
        "    employer_address = request.form.get(\"employer_address\")\n",
        "    employer_address_2 = request.form.get(\"employer_address_2\")\n",
        "    employer_city = request.form.get(\"employer_city\")\n",
        "    employer_state = request.form.get(\"employer_state\")\n",
        "    employer_state_abbr = request.form.get(\"employer_state_abbr\")\n",
        "    employer_postal_code = request.form.get(\"employer_postal_code\")\n",
        "    employer_country = request.form.get(\"employer_country\")\n",
        "    occupation = request.form.get(\"occupation\")\n",
        "\n",
        "    # Process the form data (you can store it in a database, for example)\n",
        "    print(\"Form submitted:\")\n",
        "    print(f\"First Name: {first_name}\")\n",
        "    print(f\"Middle Name: {middle_name}\")\n",
        "    print(f\"Last Name: {last_name}\")\n",
        "    print(f\"Title: {title}\")\n",
        "    print(f\"Suffix: {suffix}\")\n",
        "    print(f\"Date of Birth: {date_of_birth}\")\n",
        "    print(f\"SSN: {ssn}\")\n",
        "    print(f\"Gender: {gender}\")\n",
        "    print(f\"Nationality: {nationality}\")\n",
        "    print(f\"Marital Status: {marital_status}\")\n",
        "    print(f\"Address: {address}\")\n",
        "    print(f\"Address 2: {address_2}\")\n",
        "    print(f\"City: {city}\")\n",
        "    print(f\"State: {state}\")\n",
        "    print(f\"State Abbreviation: {state_abbr}\")\n",
        "    print(f\"Postal Code: {postal_code}\")\n",
        "    print(f\"Country: {country}\")\n",
        "    print(f\"Email: {email}\")\n",
        "    print(f\"Phone Number: {phone_number}\")\n",
        "    print(f\"Mobile Number: {mobile_number}\")\n",
        "    print(f\"Permanent Address Different: {perm_addr_diff}\")\n",
        "    print(f\"Permanent Address 1: {permanent_address_1}\")\n",
        "    print(f\"Permanent Address 2: {permanent_address_2}\")\n",
        "    print(f\"Permanent City: {permanent_city}\")\n",
        "    print(f\"Permanent State: {permanent_state}\")\n",
        "    print(f\"Permanent State Abbreviation: {permanent_state_abbr}\")\n",
        "    print(f\"Permanent Postal Code: {permanent_postal_code}\")\n",
        "    print(f\"Permanent Country: {permanent_country}\")\n",
        "    print(f\"Government ID Type: {gov_id_type}\")\n",
        "    print(f\"ID Number: {id_number}\")\n",
        "    print(f\"ID Expiration Date: {id_expiration_date}\")\n",
        "    print(f\"Employment Status: {employment_status}\")\n",
        "    print(f\"Annual Income: {annual_income}\")\n",
        "    print(f\"Employer Name: {employer_name}\")\n",
        "    print(f\"Employer Address: {employer_address}\")\n",
        "    print(f\"Employer Address 2: {employer_address_2}\")\n",
        "    print(f\"Employer City: {employer_city}\")\n",
        "    print(f\"Employer State: {employer_state}\")\n",
        "    print(f\"Employer State Abbreviation: {employer_state_abbr}\")\n",
        "    print(f\"Employer Postal Code: {employer_postal_code}\")\n",
        "    print(f\"Employer Country: {employer_country}\")\n",
        "    print(f\"Occupation: {occupation}\")\n",
        "\n",
        "    return render_template(\"application_form.html\")\n",
        "\n",
        "  return render_template(\"application_form.html\")\n",
        "\n",
        "\n",
        "print(f\"To acces the Gloable link please click {public_url}\")\n",
        "if __name__ == \"__main__\":\n",
        "    app.run(port=port_no)\n"
      ],
      "metadata": {
        "colab": {
          "base_uri": "https://localhost:8080/"
        },
        "id": "MtX9R8odLZhv",
        "outputId": "74e69d06-211e-4a6b-eb1b-0a501b7ed4c9"
      },
      "execution_count": null,
      "outputs": [
        {
          "output_type": "stream",
          "name": "stderr",
          "text": [
            "WARNING:pyngrok.process.ngrok:t=2023-08-14T18:43:31+0000 lvl=warn msg=\"ngrok config file found at legacy location, move to XDG location\" xdg_path=/root/.config/ngrok/ngrok.yml legacy_path=/root/.ngrok2/ngrok.yml\n"
          ]
        },
        {
          "output_type": "stream",
          "name": "stdout",
          "text": [
            "To acces the Gloable link please click https://0ce1-34-85-193-80.ngrok-free.app\n",
            " * Serving Flask app '__main__'\n",
            " * Debug mode: off\n"
          ]
        },
        {
          "output_type": "stream",
          "name": "stderr",
          "text": [
            "INFO:werkzeug:\u001b[31m\u001b[1mWARNING: This is a development server. Do not use it in a production deployment. Use a production WSGI server instead.\u001b[0m\n",
            " * Running on http://127.0.0.1:5000\n",
            "INFO:werkzeug:\u001b[33mPress CTRL+C to quit\u001b[0m\n",
            "INFO:werkzeug:127.0.0.1 - - [14/Aug/2023 18:43:43] \"\u001b[33mGET / HTTP/1.1\u001b[0m\" 404 -\n",
            "INFO:werkzeug:127.0.0.1 - - [14/Aug/2023 18:43:44] \"\u001b[33mGET /favicon.ico HTTP/1.1\u001b[0m\" 404 -\n"
          ]
        }
      ]
    },
    {
      "cell_type": "code",
      "source": [
        "from IPython.display import HTML, display\n",
        "import pandas as pd\n",
        "\n",
        "def autofill_form(data):\n",
        "    html_form = \"\"\"\n",
        "    <form action=\"#\" method=\"post\">\n",
        "        <!-- Account Holder Information -->\n",
        "        <h2>Account Holder Information</h2>\n",
        "        <label for=\"first_name\">First Name:</label>\n",
        "        <input type=\"text\" name=\"first_name\" value=\"{}\"><br>\n",
        "        <label for=\"middle_name\">Middle Name:</label>\n",
        "        <input type=\"text\" name=\"middle_name\" value=\"{}\"><br>\n",
        "        <label for=\"last_name\">Last Name:</label>\n",
        "        <input type=\"text\" name=\"last_name\" value=\"{}\"><br>\n",
        "\n",
        "        <!-- Contact Information -->\n",
        "        <h2>Contact Information</h2>\n",
        "        <!-- Add more contact fields here -->\n",
        "\n",
        "        <!-- Identification and Verification -->\n",
        "        <h2>Identification and Verification</h2>\n",
        "        <!-- Add more identification fields here -->\n",
        "\n",
        "        <!-- Financial Information -->\n",
        "        <h2>Financial Information</h2>\n",
        "        <!-- Add more financial fields here -->\n",
        "\n",
        "        <!-- Occupation -->\n",
        "        <h2>Occupation</h2>\n",
        "        <!-- Add more occupation fields here -->\n",
        "\n",
        "        <!-- Images -->\n",
        "        <h2>Images</h2>\n",
        "        <!-- Add more image upload fields here -->\n",
        "\n",
        "        <!-- Submit Application -->\n",
        "        <h2>Submit Application</h2>\n",
        "        <input type=\"submit\" value=\"Submit\">\n",
        "    </form>\n",
        "    \"\"\".format(data.get(\"first_name\", \"\"), data.get(\"middle_name\", \"\"), data.get(\"last_name\", \"\"))\n",
        "\n",
        "    display(HTML(html_form))\n",
        "\n",
        "train = train_in.merge(train_predictions_df,left_on='Cust ID',right_on = 'Cust ID')\n",
        "train = train.merge(id_listing,left_on='Credit Bureau ID',right_on='id')\n",
        "df = pd.DataFrame(train)\n",
        "\n",
        "# Get the first row of the DataFrame\n",
        "form_data = df.iloc[0]\n",
        "\n",
        "# Call the autofill function with the example data\n",
        "autofill_form(form_data)\n"
      ],
      "metadata": {
        "id": "RxyJa8-cXVd3"
      },
      "execution_count": null,
      "outputs": []
    }
  ]
}